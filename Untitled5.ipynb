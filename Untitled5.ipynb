{
  "nbformat": 4,
  "nbformat_minor": 0,
  "metadata": {
    "colab": {
      "provenance": [],
      "authorship_tag": "ABX9TyOgLsyF7U8E9PXq2q4Ix/Vg",
      "include_colab_link": true
    },
    "kernelspec": {
      "name": "python3",
      "display_name": "Python 3"
    },
    "language_info": {
      "name": "python"
    }
  },
  "cells": [
    {
      "cell_type": "markdown",
      "metadata": {
        "id": "view-in-github",
        "colab_type": "text"
      },
      "source": [
        "<a href=\"https://colab.research.google.com/github/Madhuri-23/Assignment1/blob/main/Untitled5.ipynb\" target=\"_parent\"><img src=\"https://colab.research.google.com/assets/colab-badge.svg\" alt=\"Open In Colab\"/></a>"
      ]
    },
    {
      "cell_type": "markdown",
      "source": [
        "      \n",
        "#            Sales Forecasting for Small Basket "
      ],
      "metadata": {
        "id": "wvaQ4gHvl9HH"
      }
    },
    {
      "cell_type": "markdown",
      "source": [
        "Small Basket is a huge online / mobile application-based grocery retailer in India, founded \n",
        "in 2011. Small Basket is trying to manage its supply chain and delivery partners and would \n",
        "like to accurately forecast the sales for the period starting from January of 2019 to August \n",
        "of 2019. You are also given a few features that were developed by the Business \n",
        "Intelligence team, that might or might not provide additional insights to your analysis."
      ],
      "metadata": {
        "id": "aA2b9I9Vm8P_"
      }
    },
    {
      "cell_type": "code",
      "source": [
        "from google.colab import drive\n",
        "drive.mount(\"/content/drive\")"
      ],
      "metadata": {
        "colab": {
          "base_uri": "https://localhost:8080/"
        },
        "id": "3WzPlFv2lmXr",
        "outputId": "f159cee6-9a5f-400f-b918-8764e4246c30"
      },
      "execution_count": 1,
      "outputs": [
        {
          "output_type": "stream",
          "name": "stdout",
          "text": [
            "Drive already mounted at /content/drive; to attempt to forcibly remount, call drive.mount(\"/content/drive\", force_remount=True).\n"
          ]
        }
      ]
    },
    {
      "cell_type": "markdown",
      "source": [
        "Importing Libraries"
      ],
      "metadata": {
        "id": "WsYmMfTHpYJa"
      }
    },
    {
      "cell_type": "code",
      "source": [
        "#Import required libraries\n",
        "import numpy as np\n",
        "import pandas as pd\n",
        "import matplotlib.pyplot as plt\n",
        "import seaborn as sns\n"
      ],
      "metadata": {
        "id": "lVD7TfTnzDBm"
      },
      "execution_count": 2,
      "outputs": []
    },
    {
      "cell_type": "markdown",
      "source": [
        "Loading and understanding datasets"
      ],
      "metadata": {
        "id": "l-OnE32zphxn"
      }
    },
    {
      "cell_type": "code",
      "source": [
        "#Load the required datasets\n",
        "train=pd.read_csv(\"/content/drive/MyDrive/FINAL HACKTHON/train.csv\")\n",
        "test=pd.read_csv(\"/content/drive/MyDrive/FINAL HACKTHON/test.csv\")\n",
        "sample_submission=pd.read_csv(\"/content/drive/MyDrive/FINAL HACKTHON/sample_submission.csv\")\n",
        "item=pd.read_excel(\"/content/drive/MyDrive/FINAL HACKTHON/item_details .xlsx\")\n",
        "location=pd.read_excel(\"/content/drive/MyDrive/FINAL HACKTHON/location_details.xlsx\")\n",
        "train_transaction=pd.read_excel(\"/content/drive/MyDrive/FINAL HACKTHON/train_transactions.xlsx\")"
      ],
      "metadata": {
        "id": "mGaXnZihzGZa",
        "colab": {
          "base_uri": "https://localhost:8080/"
        },
        "outputId": "bb8b88c8-615f-423e-feb8-13ee3376cc26"
      },
      "execution_count": 3,
      "outputs": [
        {
          "output_type": "stream",
          "name": "stderr",
          "text": [
            "/usr/local/lib/python3.7/dist-packages/IPython/core/interactiveshell.py:3326: DtypeWarning: Columns (4) have mixed types.Specify dtype option on import or set low_memory=False.\n",
            "  exec(code_obj, self.user_global_ns, self.user_ns)\n"
          ]
        }
      ]
    },
    {
      "cell_type": "code",
      "source": [
        "#view the shape of the datasets\n",
        "print(train.shape)\n",
        "print(test.shape)\n",
        "print(sample_submission.shape)\n",
        "print(item.shape)\n",
        "print(location.shape)\n",
        "print(train_transaction.shape)"
      ],
      "metadata": {
        "id": "J-rTHX60_a0C",
        "colab": {
          "base_uri": "https://localhost:8080/"
        },
        "outputId": "ffae46cf-0253-4b11-fbf6-36fdd9cec64e"
      },
      "execution_count": 4,
      "outputs": [
        {
          "output_type": "stream",
          "name": "stdout",
          "text": [
            "(101688779, 5)\n",
            "(23517680, 5)\n",
            "(23517680, 2)\n",
            "(4100, 4)\n",
            "(54, 5)\n",
            "(71391, 3)\n"
          ]
        }
      ]
    },
    {
      "cell_type": "markdown",
      "source": [
        "Since train.csv has more than 100 mil records, it is best to consider performing some data engineering before starting any analysis."
      ],
      "metadata": {
        "id": "3klzruwi_uYc"
      }
    },
    {
      "cell_type": "markdown",
      "source": [
        "item_details"
      ],
      "metadata": {
        "id": "75jgrmBlrs3H"
      }
    },
    {
      "cell_type": "code",
      "source": [
        "item.head()"
      ],
      "metadata": {
        "colab": {
          "base_uri": "https://localhost:8080/",
          "height": 206
        },
        "id": "DZfSZAM-rzb9",
        "outputId": "7201f7dc-6aeb-4116-de73-d32df341d7e4"
      },
      "execution_count": 5,
      "outputs": [
        {
          "output_type": "execute_result",
          "data": {
            "text/plain": [
              "       item_id           category_of_item       class  perishable\n",
              "0   item_96995              grocery_items  class_1093         0.0\n",
              "1   item_99197              grocery_items  class_1067         0.0\n",
              "2  item_103501         cleaning_utilities  class_3008         0.0\n",
              "3  item_103520              grocery_items  class_1028         0.0\n",
              "4  item_103665  baked_items / bread_based  class_2712         1.0"
            ],
            "text/html": [
              "\n",
              "  <div id=\"df-3a55a7c5-6c00-4c32-b3ae-ccd83eab348f\">\n",
              "    <div class=\"colab-df-container\">\n",
              "      <div>\n",
              "<style scoped>\n",
              "    .dataframe tbody tr th:only-of-type {\n",
              "        vertical-align: middle;\n",
              "    }\n",
              "\n",
              "    .dataframe tbody tr th {\n",
              "        vertical-align: top;\n",
              "    }\n",
              "\n",
              "    .dataframe thead th {\n",
              "        text-align: right;\n",
              "    }\n",
              "</style>\n",
              "<table border=\"1\" class=\"dataframe\">\n",
              "  <thead>\n",
              "    <tr style=\"text-align: right;\">\n",
              "      <th></th>\n",
              "      <th>item_id</th>\n",
              "      <th>category_of_item</th>\n",
              "      <th>class</th>\n",
              "      <th>perishable</th>\n",
              "    </tr>\n",
              "  </thead>\n",
              "  <tbody>\n",
              "    <tr>\n",
              "      <th>0</th>\n",
              "      <td>item_96995</td>\n",
              "      <td>grocery_items</td>\n",
              "      <td>class_1093</td>\n",
              "      <td>0.0</td>\n",
              "    </tr>\n",
              "    <tr>\n",
              "      <th>1</th>\n",
              "      <td>item_99197</td>\n",
              "      <td>grocery_items</td>\n",
              "      <td>class_1067</td>\n",
              "      <td>0.0</td>\n",
              "    </tr>\n",
              "    <tr>\n",
              "      <th>2</th>\n",
              "      <td>item_103501</td>\n",
              "      <td>cleaning_utilities</td>\n",
              "      <td>class_3008</td>\n",
              "      <td>0.0</td>\n",
              "    </tr>\n",
              "    <tr>\n",
              "      <th>3</th>\n",
              "      <td>item_103520</td>\n",
              "      <td>grocery_items</td>\n",
              "      <td>class_1028</td>\n",
              "      <td>0.0</td>\n",
              "    </tr>\n",
              "    <tr>\n",
              "      <th>4</th>\n",
              "      <td>item_103665</td>\n",
              "      <td>baked_items / bread_based</td>\n",
              "      <td>class_2712</td>\n",
              "      <td>1.0</td>\n",
              "    </tr>\n",
              "  </tbody>\n",
              "</table>\n",
              "</div>\n",
              "      <button class=\"colab-df-convert\" onclick=\"convertToInteractive('df-3a55a7c5-6c00-4c32-b3ae-ccd83eab348f')\"\n",
              "              title=\"Convert this dataframe to an interactive table.\"\n",
              "              style=\"display:none;\">\n",
              "        \n",
              "  <svg xmlns=\"http://www.w3.org/2000/svg\" height=\"24px\"viewBox=\"0 0 24 24\"\n",
              "       width=\"24px\">\n",
              "    <path d=\"M0 0h24v24H0V0z\" fill=\"none\"/>\n",
              "    <path d=\"M18.56 5.44l.94 2.06.94-2.06 2.06-.94-2.06-.94-.94-2.06-.94 2.06-2.06.94zm-11 1L8.5 8.5l.94-2.06 2.06-.94-2.06-.94L8.5 2.5l-.94 2.06-2.06.94zm10 10l.94 2.06.94-2.06 2.06-.94-2.06-.94-.94-2.06-.94 2.06-2.06.94z\"/><path d=\"M17.41 7.96l-1.37-1.37c-.4-.4-.92-.59-1.43-.59-.52 0-1.04.2-1.43.59L10.3 9.45l-7.72 7.72c-.78.78-.78 2.05 0 2.83L4 21.41c.39.39.9.59 1.41.59.51 0 1.02-.2 1.41-.59l7.78-7.78 2.81-2.81c.8-.78.8-2.07 0-2.86zM5.41 20L4 18.59l7.72-7.72 1.47 1.35L5.41 20z\"/>\n",
              "  </svg>\n",
              "      </button>\n",
              "      \n",
              "  <style>\n",
              "    .colab-df-container {\n",
              "      display:flex;\n",
              "      flex-wrap:wrap;\n",
              "      gap: 12px;\n",
              "    }\n",
              "\n",
              "    .colab-df-convert {\n",
              "      background-color: #E8F0FE;\n",
              "      border: none;\n",
              "      border-radius: 50%;\n",
              "      cursor: pointer;\n",
              "      display: none;\n",
              "      fill: #1967D2;\n",
              "      height: 32px;\n",
              "      padding: 0 0 0 0;\n",
              "      width: 32px;\n",
              "    }\n",
              "\n",
              "    .colab-df-convert:hover {\n",
              "      background-color: #E2EBFA;\n",
              "      box-shadow: 0px 1px 2px rgba(60, 64, 67, 0.3), 0px 1px 3px 1px rgba(60, 64, 67, 0.15);\n",
              "      fill: #174EA6;\n",
              "    }\n",
              "\n",
              "    [theme=dark] .colab-df-convert {\n",
              "      background-color: #3B4455;\n",
              "      fill: #D2E3FC;\n",
              "    }\n",
              "\n",
              "    [theme=dark] .colab-df-convert:hover {\n",
              "      background-color: #434B5C;\n",
              "      box-shadow: 0px 1px 3px 1px rgba(0, 0, 0, 0.15);\n",
              "      filter: drop-shadow(0px 1px 2px rgba(0, 0, 0, 0.3));\n",
              "      fill: #FFFFFF;\n",
              "    }\n",
              "  </style>\n",
              "\n",
              "      <script>\n",
              "        const buttonEl =\n",
              "          document.querySelector('#df-3a55a7c5-6c00-4c32-b3ae-ccd83eab348f button.colab-df-convert');\n",
              "        buttonEl.style.display =\n",
              "          google.colab.kernel.accessAllowed ? 'block' : 'none';\n",
              "\n",
              "        async function convertToInteractive(key) {\n",
              "          const element = document.querySelector('#df-3a55a7c5-6c00-4c32-b3ae-ccd83eab348f');\n",
              "          const dataTable =\n",
              "            await google.colab.kernel.invokeFunction('convertToInteractive',\n",
              "                                                     [key], {});\n",
              "          if (!dataTable) return;\n",
              "\n",
              "          const docLinkHtml = 'Like what you see? Visit the ' +\n",
              "            '<a target=\"_blank\" href=https://colab.research.google.com/notebooks/data_table.ipynb>data table notebook</a>'\n",
              "            + ' to learn more about interactive tables.';\n",
              "          element.innerHTML = '';\n",
              "          dataTable['output_type'] = 'display_data';\n",
              "          await google.colab.output.renderOutput(dataTable, element);\n",
              "          const docLink = document.createElement('div');\n",
              "          docLink.innerHTML = docLinkHtml;\n",
              "          element.appendChild(docLink);\n",
              "        }\n",
              "      </script>\n",
              "    </div>\n",
              "  </div>\n",
              "  "
            ]
          },
          "metadata": {},
          "execution_count": 5
        }
      ]
    },
    {
      "cell_type": "code",
      "source": [
        "item.nunique()"
      ],
      "metadata": {
        "colab": {
          "base_uri": "https://localhost:8080/"
        },
        "id": "dxtNXn6ir6uY",
        "outputId": "7d9589db-e6fa-4d3e-9ade-87e540433a05"
      },
      "execution_count": 6,
      "outputs": [
        {
          "output_type": "execute_result",
          "data": {
            "text/plain": [
              "item_id             4100\n",
              "category_of_item      30\n",
              "class                337\n",
              "perishable             2\n",
              "dtype: int64"
            ]
          },
          "metadata": {},
          "execution_count": 6
        }
      ]
    },
    {
      "cell_type": "code",
      "source": [
        "item.value_counts()"
      ],
      "metadata": {
        "colab": {
          "base_uri": "https://localhost:8080/"
        },
        "id": "XsbuJPHbv5Lw",
        "outputId": "33b126aa-78be-4f81-abb6-e27d15f65c8c"
      },
      "execution_count": 7,
      "outputs": [
        {
          "output_type": "execute_result",
          "data": {
            "text/plain": [
              "item_id       category_of_item    class       perishable\n",
              "item_1000866  grocery_items       class_1074  0.0           1\n",
              "item_2036460  deli_items          class_2644  1.0           1\n",
              "item_2083837  beverages           class_1118  0.0           1\n",
              "item_208384   eggs                class_2502  1.0           1\n",
              "item_2083859  beverages           class_1118  0.0           1\n",
              "                                                           ..\n",
              "item_1464941  beverages           class_1148  0.0           1\n",
              "item_1465130  beverages           class_1144  0.0           1\n",
              "item_1465644  other_utilities     class_7016  0.0           1\n",
              "item_1466039  beverages           class_1114  0.0           1\n",
              "item_999547   cleaning_utilities  class_3026  0.0           1\n",
              "Length: 4100, dtype: int64"
            ]
          },
          "metadata": {},
          "execution_count": 7
        }
      ]
    },
    {
      "cell_type": "code",
      "source": [
        "plt.figure(figsize=(40,10))\n",
        "sns.countplot(x='category_of_item',data=item)\n",
        "plt.title('countplot for category_of_item')"
      ],
      "metadata": {
        "colab": {
          "base_uri": "https://localhost:8080/",
          "height": 406
        },
        "id": "P1xl5_U03Lva",
        "outputId": "9f87e782-12ca-4ac8-fe34-4237cf458071"
      },
      "execution_count": 8,
      "outputs": [
        {
          "output_type": "execute_result",
          "data": {
            "text/plain": [
              "Text(0.5, 1.0, 'countplot for category_of_item')"
            ]
          },
          "metadata": {},
          "execution_count": 8
        },
        {
          "output_type": "display_data",
          "data": {
            "text/plain": [
              "<Figure size 2880x720 with 1 Axes>"
            ],
            "image/png": "[encoded data removed]"
          },
          "metadata": {
            "needs_background": "light"
          }
        }
      ]
    },
    {
      "cell_type": "code",
      "source": [
        "item.info(memory_usage='deep')"
      ],
      "metadata": {
        "colab": {
          "base_uri": "https://localhost:8080/"
        },
        "id": "KiQ-GFrRwVvk",
        "outputId": "0697d637-408b-4d77-e4bf-0a65401ed18f"
      },
      "execution_count": 9,
      "outputs": [
        {
          "output_type": "stream",
          "name": "stdout",
          "text": [
            "<class 'pandas.core.frame.DataFrame'>\n",
            "RangeIndex: 4100 entries, 0 to 4099\n",
            "Data columns (total 4 columns):\n",
            " #   Column            Non-Null Count  Dtype  \n",
            "---  ------            --------------  -----  \n",
            " 0   item_id           4100 non-null   object \n",
            " 1   category_of_item  4100 non-null   object \n",
            " 2   class             4100 non-null   object \n",
            " 3   perishable        4100 non-null   float64\n",
            "dtypes: float64(1), object(3)\n",
            "memory usage: 1.1 MB\n"
          ]
        }
      ]
    },
    {
      "cell_type": "markdown",
      "source": [
        "location_details"
      ],
      "metadata": {
        "id": "GoOx7TnT72QU"
      }
    },
    {
      "cell_type": "code",
      "source": [
        "location.head()"
      ],
      "metadata": {
        "colab": {
          "base_uri": "https://localhost:8080/",
          "height": 206
        },
        "id": "FHVl9iMUw5TZ",
        "outputId": "1e31740a-f1ba-4fe7-eea8-c6ed2ad2d55e"
      },
      "execution_count": 10,
      "outputs": [
        {
          "output_type": "execute_result",
          "data": {
            "text/plain": [
              "  location_id       city      state type  cluster\n",
              "0  location_1  Bengaluru  Karnataka    D     13.0\n",
              "1  location_2  Bengaluru  Karnataka    D     13.0\n",
              "2  location_3  Bengaluru  Karnataka    D      8.0\n",
              "3  location_4  Bengaluru  Karnataka    D      9.0\n",
              "4  location_5      Delhi        NCR    D      4.0"
            ],
            "text/html": [
              "\n",
              "  <div id=\"df-b0031947-e8c7-4a01-ade9-98a5d4cd9e0f\">\n",
              "    <div class=\"colab-df-container\">\n",
              "      <div>\n",
              "<style scoped>\n",
              "    .dataframe tbody tr th:only-of-type {\n",
              "        vertical-align: middle;\n",
              "    }\n",
              "\n",
              "    .dataframe tbody tr th {\n",
              "        vertical-align: top;\n",
              "    }\n",
              "\n",
              "    .dataframe thead th {\n",
              "        text-align: right;\n",
              "    }\n",
              "</style>\n",
              "<table border=\"1\" class=\"dataframe\">\n",
              "  <thead>\n",
              "    <tr style=\"text-align: right;\">\n",
              "      <th></th>\n",
              "      <th>location_id</th>\n",
              "      <th>city</th>\n",
              "      <th>state</th>\n",
              "      <th>type</th>\n",
              "      <th>cluster</th>\n",
              "    </tr>\n",
              "  </thead>\n",
              "  <tbody>\n",
              "    <tr>\n",
              "      <th>0</th>\n",
              "      <td>location_1</td>\n",
              "      <td>Bengaluru</td>\n",
              "      <td>Karnataka</td>\n",
              "      <td>D</td>\n",
              "      <td>13.0</td>\n",
              "    </tr>\n",
              "    <tr>\n",
              "      <th>1</th>\n",
              "      <td>location_2</td>\n",
              "      <td>Bengaluru</td>\n",
              "      <td>Karnataka</td>\n",
              "      <td>D</td>\n",
              "      <td>13.0</td>\n",
              "    </tr>\n",
              "    <tr>\n",
              "      <th>2</th>\n",
              "      <td>location_3</td>\n",
              "      <td>Bengaluru</td>\n",
              "      <td>Karnataka</td>\n",
              "      <td>D</td>\n",
              "      <td>8.0</td>\n",
              "    </tr>\n",
              "    <tr>\n",
              "      <th>3</th>\n",
              "      <td>location_4</td>\n",
              "      <td>Bengaluru</td>\n",
              "      <td>Karnataka</td>\n",
              "      <td>D</td>\n",
              "      <td>9.0</td>\n",
              "    </tr>\n",
              "    <tr>\n",
              "      <th>4</th>\n",
              "      <td>location_5</td>\n",
              "      <td>Delhi</td>\n",
              "      <td>NCR</td>\n",
              "      <td>D</td>\n",
              "      <td>4.0</td>\n",
              "    </tr>\n",
              "  </tbody>\n",
              "</table>\n",
              "</div>\n",
              "      <button class=\"colab-df-convert\" onclick=\"convertToInteractive('df-b0031947-e8c7-4a01-ade9-98a5d4cd9e0f')\"\n",
              "              title=\"Convert this dataframe to an interactive table.\"\n",
              "              style=\"display:none;\">\n",
              "        \n",
              "  <svg xmlns=\"http://www.w3.org/2000/svg\" height=\"24px\"viewBox=\"0 0 24 24\"\n",
              "       width=\"24px\">\n",
              "    <path d=\"M0 0h24v24H0V0z\" fill=\"none\"/>\n",
              "    <path d=\"M18.56 5.44l.94 2.06.94-2.06 2.06-.94-2.06-.94-.94-2.06-.94 2.06-2.06.94zm-11 1L8.5 8.5l.94-2.06 2.06-.94-2.06-.94L8.5 2.5l-.94 2.06-2.06.94zm10 10l.94 2.06.94-2.06 2.06-.94-2.06-.94-.94-2.06-.94 2.06-2.06.94z\"/><path d=\"M17.41 7.96l-1.37-1.37c-.4-.4-.92-.59-1.43-.59-.52 0-1.04.2-1.43.59L10.3 9.45l-7.72 7.72c-.78.78-.78 2.05 0 2.83L4 21.41c.39.39.9.59 1.41.59.51 0 1.02-.2 1.41-.59l7.78-7.78 2.81-2.81c.8-.78.8-2.07 0-2.86zM5.41 20L4 18.59l7.72-7.72 1.47 1.35L5.41 20z\"/>\n",
              "  </svg>\n",
              "      </button>\n",
              "      \n",
              "  <style>\n",
              "    .colab-df-container {\n",
              "      display:flex;\n",
              "      flex-wrap:wrap;\n",
              "      gap: 12px;\n",
              "    }\n",
              "\n",
              "    .colab-df-convert {\n",
              "      background-color: #E8F0FE;\n",
              "      border: none;\n",
              "      border-radius: 50%;\n",
              "      cursor: pointer;\n",
              "      display: none;\n",
              "      fill: #1967D2;\n",
              "      height: 32px;\n",
              "      padding: 0 0 0 0;\n",
              "      width: 32px;\n",
              "    }\n",
              "\n",
              "    .colab-df-convert:hover {\n",
              "      background-color: #E2EBFA;\n",
              "      box-shadow: 0px 1px 2px rgba(60, 64, 67, 0.3), 0px 1px 3px 1px rgba(60, 64, 67, 0.15);\n",
              "      fill: #174EA6;\n",
              "    }\n",
              "\n",
              "    [theme=dark] .colab-df-convert {\n",
              "      background-color: #3B4455;\n",
              "      fill: #D2E3FC;\n",
              "    }\n",
              "\n",
              "    [theme=dark] .colab-df-convert:hover {\n",
              "      background-color: #434B5C;\n",
              "      box-shadow: 0px 1px 3px 1px rgba(0, 0, 0, 0.15);\n",
              "      filter: drop-shadow(0px 1px 2px rgba(0, 0, 0, 0.3));\n",
              "      fill: #FFFFFF;\n",
              "    }\n",
              "  </style>\n",
              "\n",
              "      <script>\n",
              "        const buttonEl =\n",
              "          document.querySelector('#df-b0031947-e8c7-4a01-ade9-98a5d4cd9e0f button.colab-df-convert');\n",
              "        buttonEl.style.display =\n",
              "          google.colab.kernel.accessAllowed ? 'block' : 'none';\n",
              "\n",
              "        async function convertToInteractive(key) {\n",
              "          const element = document.querySelector('#df-b0031947-e8c7-4a01-ade9-98a5d4cd9e0f');\n",
              "          const dataTable =\n",
              "            await google.colab.kernel.invokeFunction('convertToInteractive',\n",
              "                                                     [key], {});\n",
              "          if (!dataTable) return;\n",
              "\n",
              "          const docLinkHtml = 'Like what you see? Visit the ' +\n",
              "            '<a target=\"_blank\" href=https://colab.research.google.com/notebooks/data_table.ipynb>data table notebook</a>'\n",
              "            + ' to learn more about interactive tables.';\n",
              "          element.innerHTML = '';\n",
              "          dataTable['output_type'] = 'display_data';\n",
              "          await google.colab.output.renderOutput(dataTable, element);\n",
              "          const docLink = document.createElement('div');\n",
              "          docLink.innerHTML = docLinkHtml;\n",
              "          element.appendChild(docLink);\n",
              "        }\n",
              "      </script>\n",
              "    </div>\n",
              "  </div>\n",
              "  "
            ]
          },
          "metadata": {},
          "execution_count": 10
        }
      ]
    },
    {
      "cell_type": "code",
      "source": [
        "location.nunique()"
      ],
      "metadata": {
        "colab": {
          "base_uri": "https://localhost:8080/"
        },
        "id": "EcLsUnT28CaG",
        "outputId": "7eda3f31-3778-4585-e66e-c7393a40f909"
      },
      "execution_count": 11,
      "outputs": [
        {
          "output_type": "execute_result",
          "data": {
            "text/plain": [
              "location_id    54\n",
              "city           22\n",
              "state          13\n",
              "type            5\n",
              "cluster        17\n",
              "dtype: int64"
            ]
          },
          "metadata": {},
          "execution_count": 11
        }
      ]
    },
    {
      "cell_type": "code",
      "source": [
        "plt.figure(figsize=(15,5))\n",
        "sns.countplot(x='type',data=location)\n",
        "plt.title('countplot for type')"
      ],
      "metadata": {
        "colab": {
          "base_uri": "https://localhost:8080/",
          "height": 367
        },
        "id": "V4s8J5898M9b",
        "outputId": "e21584eb-4d56-41b5-94bf-c58414f6f888"
      },
      "execution_count": 12,
      "outputs": [
        {
          "output_type": "execute_result",
          "data": {
            "text/plain": [
              "Text(0.5, 1.0, 'countplot for type')"
            ]
          },
          "metadata": {},
          "execution_count": 12
        },
        {
          "output_type": "display_data",
          "data": {
            "text/plain": [
              "<Figure size 1080x360 with 1 Axes>"
            ],
            "image/png": "[encoded data removed]"
          },
          "metadata": {
            "needs_background": "light"
          }
        }
      ]
    },
    {
      "cell_type": "code",
      "source": [
        "plt.figure(figsize=(15,5))\n",
        "sns.countplot(x='cluster',data=location)\n",
        "plt.title('countplot for type')"
      ],
      "metadata": {
        "colab": {
          "base_uri": "https://localhost:8080/",
          "height": 367
        },
        "id": "QUL_NTok9PGt",
        "outputId": "509cfd54-34c9-49ba-ac3e-a54db194963e"
      },
      "execution_count": 13,
      "outputs": [
        {
          "output_type": "execute_result",
          "data": {
            "text/plain": [
              "Text(0.5, 1.0, 'countplot for type')"
            ]
          },
          "metadata": {},
          "execution_count": 13
        },
        {
          "output_type": "display_data",
          "data": {
            "text/plain": [
              "<Figure size 1080x360 with 1 Axes>"
            ],
            "image/png": "[encoded data removed]"
          },
          "metadata": {
            "needs_background": "light"
          }
        }
      ]
    },
    {
      "cell_type": "code",
      "source": [
        "plt.figure(figsize=(15,5))\n",
        "sns.countplot(x='state',data=location)\n",
        "plt.title('countplot for state')"
      ],
      "metadata": {
        "colab": {
          "base_uri": "https://localhost:8080/",
          "height": 367
        },
        "id": "wZx_PWT79YiH",
        "outputId": "99f68542-d4c2-489f-c9b8-cdc92833c59d"
      },
      "execution_count": 14,
      "outputs": [
        {
          "output_type": "execute_result",
          "data": {
            "text/plain": [
              "Text(0.5, 1.0, 'countplot for state')"
            ]
          },
          "metadata": {},
          "execution_count": 14
        },
        {
          "output_type": "display_data",
          "data": {
            "text/plain": [
              "<Figure size 1080x360 with 1 Axes>"
            ],
            "image/png": "[encoded data removed]"
          },
          "metadata": {
            "needs_background": "light"
          }
        }
      ]
    },
    {
      "cell_type": "code",
      "source": [
        "plt.figure(figsize=(25,5))\n",
        "sns.countplot(x='city',data=location)\n",
        "plt.title('countplot for city')"
      ],
      "metadata": {
        "colab": {
          "base_uri": "https://localhost:8080/",
          "height": 359
        },
        "id": "zWckvNW_9jee",
        "outputId": "d26a35ce-4077-4915-cb08-9061032ac883"
      },
      "execution_count": 15,
      "outputs": [
        {
          "output_type": "execute_result",
          "data": {
            "text/plain": [
              "Text(0.5, 1.0, 'countplot for city')"
            ]
          },
          "metadata": {},
          "execution_count": 15
        },
        {
          "output_type": "display_data",
          "data": {
            "text/plain": [
              "<Figure size 1800x360 with 1 Axes>"
            ],
            "image/png": "[encoded data removed]"
          },
          "metadata": {
            "needs_background": "light"
          }
        }
      ]
    },
    {
      "cell_type": "markdown",
      "source": [
        "train_transaction"
      ],
      "metadata": {
        "id": "M47kH_W6-Itr"
      }
    },
    {
      "cell_type": "code",
      "source": [
        "train_transaction.head()"
      ],
      "metadata": {
        "colab": {
          "base_uri": "https://localhost:8080/",
          "height": 206
        },
        "id": "M8FUK_ja9579",
        "outputId": "fd5c92bb-5ea7-4956-8378-5b7167b81a9a"
      },
      "execution_count": 16,
      "outputs": [
        {
          "output_type": "execute_result",
          "data": {
            "text/plain": [
              "        date location_identifier  transactions\n",
              "0 2015-01-01         location_25         770.0\n",
              "1 2015-01-02          location_1        2111.0\n",
              "2 2015-01-02          location_2        2358.0\n",
              "3 2015-01-02          location_3        3487.0\n",
              "4 2015-01-02          location_4        1922.0"
            ],
            "text/html": [
              "\n",
              "  <div id=\"df-7ba994dc-1138-4c41-8097-d429f448e6db\">\n",
              "    <div class=\"colab-df-container\">\n",
              "      <div>\n",
              "<style scoped>\n",
              "    .dataframe tbody tr th:only-of-type {\n",
              "        vertical-align: middle;\n",
              "    }\n",
              "\n",
              "    .dataframe tbody tr th {\n",
              "        vertical-align: top;\n",
              "    }\n",
              "\n",
              "    .dataframe thead th {\n",
              "        text-align: right;\n",
              "    }\n",
              "</style>\n",
              "<table border=\"1\" class=\"dataframe\">\n",
              "  <thead>\n",
              "    <tr style=\"text-align: right;\">\n",
              "      <th></th>\n",
              "      <th>date</th>\n",
              "      <th>location_identifier</th>\n",
              "      <th>transactions</th>\n",
              "    </tr>\n",
              "  </thead>\n",
              "  <tbody>\n",
              "    <tr>\n",
              "      <th>0</th>\n",
              "      <td>2015-01-01</td>\n",
              "      <td>location_25</td>\n",
              "      <td>770.0</td>\n",
              "    </tr>\n",
              "    <tr>\n",
              "      <th>1</th>\n",
              "      <td>2015-01-02</td>\n",
              "      <td>location_1</td>\n",
              "      <td>2111.0</td>\n",
              "    </tr>\n",
              "    <tr>\n",
              "      <th>2</th>\n",
              "      <td>2015-01-02</td>\n",
              "      <td>location_2</td>\n",
              "      <td>2358.0</td>\n",
              "    </tr>\n",
              "    <tr>\n",
              "      <th>3</th>\n",
              "      <td>2015-01-02</td>\n",
              "      <td>location_3</td>\n",
              "      <td>3487.0</td>\n",
              "    </tr>\n",
              "    <tr>\n",
              "      <th>4</th>\n",
              "      <td>2015-01-02</td>\n",
              "      <td>location_4</td>\n",
              "      <td>1922.0</td>\n",
              "    </tr>\n",
              "  </tbody>\n",
              "</table>\n",
              "</div>\n",
              "      <button class=\"colab-df-convert\" onclick=\"convertToInteractive('df-7ba994dc-1138-4c41-8097-d429f448e6db')\"\n",
              "              title=\"Convert this dataframe to an interactive table.\"\n",
              "              style=\"display:none;\">\n",
              "        \n",
              "  <svg xmlns=\"http://www.w3.org/2000/svg\" height=\"24px\"viewBox=\"0 0 24 24\"\n",
              "       width=\"24px\">\n",
              "    <path d=\"M0 0h24v24H0V0z\" fill=\"none\"/>\n",
              "    <path d=\"M18.56 5.44l.94 2.06.94-2.06 2.06-.94-2.06-.94-.94-2.06-.94 2.06-2.06.94zm-11 1L8.5 8.5l.94-2.06 2.06-.94-2.06-.94L8.5 2.5l-.94 2.06-2.06.94zm10 10l.94 2.06.94-2.06 2.06-.94-2.06-.94-.94-2.06-.94 2.06-2.06.94z\"/><path d=\"M17.41 7.96l-1.37-1.37c-.4-.4-.92-.59-1.43-.59-.52 0-1.04.2-1.43.59L10.3 9.45l-7.72 7.72c-.78.78-.78 2.05 0 2.83L4 21.41c.39.39.9.59 1.41.59.51 0 1.02-.2 1.41-.59l7.78-7.78 2.81-2.81c.8-.78.8-2.07 0-2.86zM5.41 20L4 18.59l7.72-7.72 1.47 1.35L5.41 20z\"/>\n",
              "  </svg>\n",
              "      </button>\n",
              "      \n",
              "  <style>\n",
              "    .colab-df-container {\n",
              "      display:flex;\n",
              "      flex-wrap:wrap;\n",
              "      gap: 12px;\n",
              "    }\n",
              "\n",
              "    .colab-df-convert {\n",
              "      background-color: #E8F0FE;\n",
              "      border: none;\n",
              "      border-radius: 50%;\n",
              "      cursor: pointer;\n",
              "      display: none;\n",
              "      fill: #1967D2;\n",
              "      height: 32px;\n",
              "      padding: 0 0 0 0;\n",
              "      width: 32px;\n",
              "    }\n",
              "\n",
              "    .colab-df-convert:hover {\n",
              "      background-color: #E2EBFA;\n",
              "      box-shadow: 0px 1px 2px rgba(60, 64, 67, 0.3), 0px 1px 3px 1px rgba(60, 64, 67, 0.15);\n",
              "      fill: #174EA6;\n",
              "    }\n",
              "\n",
              "    [theme=dark] .colab-df-convert {\n",
              "      background-color: #3B4455;\n",
              "      fill: #D2E3FC;\n",
              "    }\n",
              "\n",
              "    [theme=dark] .colab-df-convert:hover {\n",
              "      background-color: #434B5C;\n",
              "      box-shadow: 0px 1px 3px 1px rgba(0, 0, 0, 0.15);\n",
              "      filter: drop-shadow(0px 1px 2px rgba(0, 0, 0, 0.3));\n",
              "      fill: #FFFFFF;\n",
              "    }\n",
              "  </style>\n",
              "\n",
              "      <script>\n",
              "        const buttonEl =\n",
              "          document.querySelector('#df-7ba994dc-1138-4c41-8097-d429f448e6db button.colab-df-convert');\n",
              "        buttonEl.style.display =\n",
              "          google.colab.kernel.accessAllowed ? 'block' : 'none';\n",
              "\n",
              "        async function convertToInteractive(key) {\n",
              "          const element = document.querySelector('#df-7ba994dc-1138-4c41-8097-d429f448e6db');\n",
              "          const dataTable =\n",
              "            await google.colab.kernel.invokeFunction('convertToInteractive',\n",
              "                                                     [key], {});\n",
              "          if (!dataTable) return;\n",
              "\n",
              "          const docLinkHtml = 'Like what you see? Visit the ' +\n",
              "            '<a target=\"_blank\" href=https://colab.research.google.com/notebooks/data_table.ipynb>data table notebook</a>'\n",
              "            + ' to learn more about interactive tables.';\n",
              "          element.innerHTML = '';\n",
              "          dataTable['output_type'] = 'display_data';\n",
              "          await google.colab.output.renderOutput(dataTable, element);\n",
              "          const docLink = document.createElement('div');\n",
              "          docLink.innerHTML = docLinkHtml;\n",
              "          element.appendChild(docLink);\n",
              "        }\n",
              "      </script>\n",
              "    </div>\n",
              "  </div>\n",
              "  "
            ]
          },
          "metadata": {},
          "execution_count": 16
        }
      ]
    },
    {
      "cell_type": "code",
      "source": [
        "plt.figure(figsize=(40,10))\n",
        "sns.countplot(x='location_identifier',data=train_transaction)\n",
        "plt.title('countplot for location_identifier')\n"
      ],
      "metadata": {
        "colab": {
          "base_uri": "https://localhost:8080/",
          "height": 407
        },
        "id": "Ws4BiBLX-beQ",
        "outputId": "00bbd09c-eba5-424c-9c70-695c01ff7020"
      },
      "execution_count": 17,
      "outputs": [
        {
          "output_type": "execute_result",
          "data": {
            "text/plain": [
              "Text(0.5, 1.0, 'countplot for location_identifier')"
            ]
          },
          "metadata": {},
          "execution_count": 17
        },
        {
          "output_type": "display_data",
          "data": {
            "text/plain": [
              "<Figure size 2880x720 with 1 Axes>"
            ],
            "image/png": "[encoded data removed]"
          },
          "metadata": {
            "needs_background": "light"
          }
        }
      ]
    },
    {
      "cell_type": "code",
      "source": [
        "train_transaction.nunique()"
      ],
      "metadata": {
        "colab": {
          "base_uri": "https://localhost:8080/"
        },
        "id": "B8Zycz0B-__P",
        "outputId": "69b742e9-f9fc-4a6d-f75d-9efba5b2a2ca"
      },
      "execution_count": 18,
      "outputs": [
        {
          "output_type": "execute_result",
          "data": {
            "text/plain": [
              "date                   1454\n",
              "location_identifier      53\n",
              "transactions           4912\n",
              "dtype: int64"
            ]
          },
          "metadata": {},
          "execution_count": 18
        }
      ]
    },
    {
      "cell_type": "code",
      "source": [
        "train_transaction.location_identifier.value_counts()"
      ],
      "metadata": {
        "colab": {
          "base_uri": "https://localhost:8080/"
        },
        "id": "H0Vc_NIZ_L2e",
        "outputId": "7c6f9d13-5e61-466b-e2b2-e6ba05512bbf"
      },
      "execution_count": 19,
      "outputs": [
        {
          "output_type": "execute_result",
          "data": {
            "text/plain": [
              "location_31    1452\n",
              "location_38    1452\n",
              "location_26    1452\n",
              "location_33    1452\n",
              "location_34    1452\n",
              "location_37    1452\n",
              "location_39    1452\n",
              "location_41    1451\n",
              "location_40    1451\n",
              "location_23    1451\n",
              "location_44    1451\n",
              "location_45    1451\n",
              "location_46    1451\n",
              "location_47    1451\n",
              "location_32    1451\n",
              "location_28    1451\n",
              "location_27    1451\n",
              "location_48    1451\n",
              "location_50    1451\n",
              "location_51    1451\n",
              "location_49    1451\n",
              "location_2     1451\n",
              "location_16    1451\n",
              "location_5     1451\n",
              "location_54    1450\n",
              "location_3     1450\n",
              "location_4     1450\n",
              "location_6     1450\n",
              "location_8     1450\n",
              "location_9     1450\n",
              "location_19    1450\n",
              "location_35    1450\n",
              "location_13    1450\n",
              "location_1     1450\n",
              "location_15    1450\n",
              "location_11    1450\n",
              "location_10    1449\n",
              "location_7     1449\n",
              "location_17    1448\n",
              "location_43    1446\n",
              "location_30    1429\n",
              "location_14    1412\n",
              "location_12    1390\n",
              "location_25    1388\n",
              "location_24    1351\n",
              "location_18    1340\n",
              "location_36    1325\n",
              "location_53     941\n",
              "location_20     683\n",
              "location_29     648\n",
              "location_21     522\n",
              "location_42     494\n",
              "location_22     445\n",
              "Name: location_identifier, dtype: int64"
            ]
          },
          "metadata": {},
          "execution_count": 19
        }
      ]
    },
    {
      "cell_type": "markdown",
      "source": [
        "train"
      ],
      "metadata": {
        "id": "zIdP11Fo_hAb"
      }
    },
    {
      "cell_type": "markdown",
      "source": [
        "Data preparation"
      ],
      "metadata": {
        "id": "UCQVhFGP_mAo"
      }
    },
    {
      "cell_type": "code",
      "source": [
        "train.isnull().sum()#view the null values"
      ],
      "metadata": {
        "colab": {
          "base_uri": "https://localhost:8080/"
        },
        "id": "nNpvOgEpssZ2",
        "outputId": "10479445-df4d-4d5f-d15a-7d49966e1240"
      },
      "execution_count": 20,
      "outputs": [
        {
          "output_type": "execute_result",
          "data": {
            "text/plain": [
              "date                  0\n",
              "locationId            0\n",
              "item_id               0\n",
              "unit_sales            0\n",
              "onpromotion    21657651\n",
              "dtype: int64"
            ]
          },
          "metadata": {},
          "execution_count": 20
        }
      ]
    },
    {
      "cell_type": "code",
      "source": [
        "train['onpromotion']=train['onpromotion'].fillna(train['onpromotion'].mode().iloc[0])# replace the null values with mode"
      ],
      "metadata": {
        "id": "tXUab8UDtA4S"
      },
      "execution_count": 21,
      "outputs": []
    },
    {
      "cell_type": "code",
      "source": [
        "train.isnull().sum()#check the null values"
      ],
      "metadata": {
        "colab": {
          "base_uri": "https://localhost:8080/"
        },
        "id": "h41M-vK2wQGB",
        "outputId": "cbf7939d-c849-41f0-9985-fe54e77a8dc9"
      },
      "execution_count": 22,
      "outputs": [
        {
          "output_type": "execute_result",
          "data": {
            "text/plain": [
              "date           0\n",
              "locationId     0\n",
              "item_id        0\n",
              "unit_sales     0\n",
              "onpromotion    0\n",
              "dtype: int64"
            ]
          },
          "metadata": {},
          "execution_count": 22
        }
      ]
    },
    {
      "cell_type": "code",
      "source": [
        "train.info(memory_usage = \"deep\")# view the information about train dataset"
      ],
      "metadata": {
        "colab": {
          "base_uri": "https://localhost:8080/"
        },
        "id": "MHx9ZgWpzXeQ",
        "outputId": "c1dedb74-e486-4ff0-f564-442559ff62f8"
      },
      "execution_count": 23,
      "outputs": [
        {
          "output_type": "stream",
          "name": "stdout",
          "text": [
            "<class 'pandas.core.frame.DataFrame'>\n",
            "RangeIndex: 101688779 entries, 0 to 101688778\n",
            "Data columns (total 5 columns):\n",
            " #   Column       Dtype  \n",
            "---  ------       -----  \n",
            " 0   date         object \n",
            " 1   locationId   object \n",
            " 2   item_id      object \n",
            " 3   unit_sales   float64\n",
            " 4   onpromotion  bool   \n",
            "dtypes: bool(1), float64(1), object(3)\n",
            "memory usage: 20.1 GB\n"
          ]
        }
      ]
    },
    {
      "cell_type": "code",
      "source": [
        "print(\"Date type of train column is\", train.date.dtype)# view the datatype of column\n",
        "print(\"Maximum value in train column is\", train.date.max())#view the max value of column\n",
        "print(\"Minimum value in train column is\", train.date.min())#view the min value of column\n",
        "\n",
        "print(\"Date type of train column is\", train.locationId.dtype)\n",
        "print(\"Maximum value in train column is\", train.locationId.max())\n",
        "print(\"Minimum value in train column is\", train.locationId.min())\n",
        "\n",
        "print(\"Date type of train column is\", train.item_id.dtype)\n",
        "print(\"Maximum value in train column is\", train.item_id.max())\n",
        "print(\"Minimum value in train column is\", train.item_id.min())\n",
        "\n",
        "print(\"Date type of train column is\", train.onpromotion.dtype)\n",
        "print(\"Maximum value in train column is\", train.onpromotion.max())\n",
        "print(\"Minimum value in train column is\", train.onpromotion.min())\n",
        "\n",
        "print(\"Date type of train column is\", train.unit_sales.dtype)\n",
        "print(\"Maximum value in train column is\", train.unit_sales.max())\n",
        "print(\"Minimum value in train column is\", train.unit_sales.min())"
      ],
      "metadata": {
        "colab": {
          "base_uri": "https://localhost:8080/"
        },
        "id": "tBkz9lT5zaH1",
        "outputId": "ba884ef2-d407-442d-af66-d7214e493655"
      },
      "execution_count": 24,
      "outputs": [
        {
          "output_type": "stream",
          "name": "stdout",
          "text": [
            "Date type of train column is object\n",
            "Maximum value in train column is 2018-12-31\n",
            "Minimum value in train column is 2015-01-01\n",
            "Date type of train column is object\n",
            "Maximum value in train column is location_9\n",
            "Minimum value in train column is location_1\n",
            "Date type of train column is object\n",
            "Maximum value in train column is item_999547\n",
            "Minimum value in train column is item_1000866\n",
            "Date type of train column is bool\n",
            "Maximum value in train column is True\n",
            "Minimum value in train column is False\n",
            "Date type of train column is float64\n",
            "Maximum value in train column is 89440.0\n",
            "Minimum value in train column is -15372.0\n"
          ]
        }
      ]
    },
    {
      "cell_type": "code",
      "source": [
        "print(\"Memory usage before changing the datatype:\", train.locationId.memory_usage())\n",
        "\n",
        "train[\"locationId\"] = train.locationId.astype(\"category\")\n",
        "\n",
        "print(\"Memory usage after changing the datatype:\", train.locationId.memory_usage())\n",
        "\n",
        "print(\"Memory usage before changing the datatype:\", train.item_id.memory_usage())\n",
        "\n",
        "train[\"item_id\"] = train.item_id.astype(\"category\")\n",
        "\n",
        "print(\"Memory usage after changing the datatype:\", train.item_id.memory_usage())\n",
        "\n",
        "train['date']= pd.to_datetime(train['date'])\n",
        "print(\"Memory usage before changing the datatype:\", train.date.memory_usage())\n",
        "train['Year'] = pd.DatetimeIndex(train['date']).year.astype(np.int16)\n",
        "train['Month'] = pd.DatetimeIndex(train['date']).month.astype(np.int8)\n",
        "train['Day'] =pd.DatetimeIndex(train['date']).day.astype(np.int8)\n",
        "print(\"Memory usage after changing the datatype:\", train.Year.memory_usage())\n",
        "print(\"Memory usage after changing the datatype:\", train.Month.memory_usage())\n",
        "print(\"Memory usage after changing the datatype:\", train.Day.memory_usage())\n",
        "\n",
        "\n",
        "print(\"Memory usage before changing the datatype:\", train.unit_sales.memory_usage())\n",
        "\n",
        "train [\"unit_sales\"] = train['unit_sales'].astype(np.float32)\n",
        "\n",
        "print(\"Memory usage after changing the datatype:\", train.unit_sales.memory_usage())\n",
        "\n",
        "print(\"Memory usage before changing the datatype:\", train.onpromotion.memory_usage())\n",
        "\n",
        "train['onpromotion'] = train['onpromotion'].astype(np.int8)\n",
        "\n",
        "print(\"Memory usage after changing the datatype:\", train.onpromotion.memory_usage())\n",
        " \n",
        "\n",
        "\n"
      ],
      "metadata": {
        "colab": {
          "base_uri": "https://localhost:8080/"
        },
        "id": "msBllR970LF8",
        "outputId": "a2a45867-3f29-43e0-d7bc-abd1adc402cc"
      },
      "execution_count": 25,
      "outputs": [
        {
          "output_type": "stream",
          "name": "stdout",
          "text": [
            "Memory usage before changing the datatype: 813510360\n",
            "Memory usage after changing the datatype: 101691435\n",
            "Memory usage before changing the datatype: 813510360\n",
            "Memory usage after changing the datatype: 203540942\n",
            "Memory usage before changing the datatype: 813510360\n",
            "Memory usage after changing the datatype: 813510360\n",
            "Memory usage after changing the datatype: 813510360\n",
            "Memory usage after changing the datatype: 813510360\n",
            "Memory usage before changing the datatype: 813510360\n",
            "Memory usage after changing the datatype: 406755244\n",
            "Memory usage before changing the datatype: 101688907\n",
            "Memory usage after changing the datatype: 101688907\n"
          ]
        }
      ]
    },
    {
      "cell_type": "code",
      "source": [
        "train.info(memory_usage = \"deep\")"
      ],
      "metadata": {
        "colab": {
          "base_uri": "https://localhost:8080/"
        },
        "id": "83DDARSW0zIB",
        "outputId": "b568940a-5999-489b-84f4-fa4040807c3e"
      },
      "execution_count": 26,
      "outputs": [
        {
          "output_type": "stream",
          "name": "stdout",
          "text": [
            "<class 'pandas.core.frame.DataFrame'>\n",
            "RangeIndex: 101688779 entries, 0 to 101688778\n",
            "Data columns (total 8 columns):\n",
            " #   Column       Dtype         \n",
            "---  ------       -----         \n",
            " 0   date         datetime64[ns]\n",
            " 1   locationId   category      \n",
            " 2   item_id      category      \n",
            " 3   unit_sales   float32       \n",
            " 4   onpromotion  int8          \n",
            " 5   Year         int64         \n",
            " 6   Month        int64         \n",
            " 7   Day          int64         \n",
            "dtypes: category(2), datetime64[ns](1), float32(1), int64(3), int8(1)\n",
            "memory usage: 3.8 GB\n"
          ]
        }
      ]
    },
    {
      "cell_type": "code",
      "source": [
        "del[train['date']]"
      ],
      "metadata": {
        "id": "hjdeq4JVPfhv"
      },
      "execution_count": 27,
      "outputs": []
    },
    {
      "cell_type": "code",
      "source": [
        "train.info(memory_usage = \"deep\")"
      ],
      "metadata": {
        "colab": {
          "base_uri": "https://localhost:8080/"
        },
        "id": "5huHJwTWSdpn",
        "outputId": "9a3c8736-2404-47da-e169-9dec156664a6"
      },
      "execution_count": 28,
      "outputs": [
        {
          "output_type": "stream",
          "name": "stdout",
          "text": [
            "<class 'pandas.core.frame.DataFrame'>\n",
            "RangeIndex: 101688779 entries, 0 to 101688778\n",
            "Data columns (total 7 columns):\n",
            " #   Column       Dtype   \n",
            "---  ------       -----   \n",
            " 0   locationId   category\n",
            " 1   item_id      category\n",
            " 2   unit_sales   float32 \n",
            " 3   onpromotion  int8    \n",
            " 4   Year         int64   \n",
            " 5   Month        int64   \n",
            " 6   Day          int64   \n",
            "dtypes: category(2), float32(1), int64(3), int8(1)\n",
            "memory usage: 3.0 GB\n"
          ]
        }
      ]
    },
    {
      "cell_type": "code",
      "source": [
        "print(\"Date type of train column is\", train.Year.dtype)\n",
        "print(\"Maximum value in train column is\", train.Year.max())\n",
        "print(\"Minimum value in train column is\", train.Year.min())\n",
        "\n",
        "print(\"Date type of train column is\", train.Month.dtype)\n",
        "print(\"Maximum value in train column is\", train.Month.max())\n",
        "print(\"Minimum value in train column is\", train.Month.min())\n",
        "\n",
        "print(\"Date type of train column is\", train.Day.dtype)\n",
        "print(\"Maximum value in train column is\", train.Day.max())\n",
        "print(\"Minimum value in train column is\", train.Day.min())\n",
        "\n",
        "\n"
      ],
      "metadata": {
        "colab": {
          "base_uri": "https://localhost:8080/"
        },
        "id": "hDjXRcO5W9h8",
        "outputId": "5a7f48c3-984c-4332-98a4-554ac740e87d"
      },
      "execution_count": 29,
      "outputs": [
        {
          "output_type": "stream",
          "name": "stdout",
          "text": [
            "Date type of train column is int64\n",
            "Maximum value in train column is 2018\n",
            "Minimum value in train column is 2015\n",
            "Date type of train column is int64\n",
            "Maximum value in train column is 12\n",
            "Minimum value in train column is 1\n",
            "Date type of train column is int64\n",
            "Maximum value in train column is 31\n",
            "Minimum value in train column is 1\n"
          ]
        }
      ]
    },
    {
      "cell_type": "code",
      "source": [
        "print(\"Memory usage before changing the datatype:\", train.Year.memory_usage())\n",
        "\n",
        "train [\"Year\"] = train['Year'].astype(np.int16)\n",
        "\n",
        "print(\"Memory usage after changing the datatype:\", train.Year.memory_usage())\n",
        "\n",
        "print(\"Memory usage before changing the datatype:\", train.Month.memory_usage())\n",
        "\n",
        "train [\"Month\"] = train['Month'].astype(np.int8)\n",
        "\n",
        "print(\"Memory usage after changing the datatype:\", train.Month.memory_usage())\n",
        "\n",
        "print(\"Memory usage before changing the datatype:\", train.Day.memory_usage())\n",
        "\n",
        "train [\"Day\"] = train['Day'].astype(np.int8)\n",
        "\n",
        "print(\"Memory usage after changing the datatype:\", train.Day.memory_usage())\n",
        "\n"
      ],
      "metadata": {
        "colab": {
          "base_uri": "https://localhost:8080/"
        },
        "id": "SNvV4uonXLPC",
        "outputId": "f2aa7fbb-283c-40ab-d655-9e8081a59908"
      },
      "execution_count": 30,
      "outputs": [
        {
          "output_type": "stream",
          "name": "stdout",
          "text": [
            "Memory usage before changing the datatype: 813510360\n",
            "Memory usage after changing the datatype: 203377686\n",
            "Memory usage before changing the datatype: 813510360\n",
            "Memory usage after changing the datatype: 101688907\n",
            "Memory usage before changing the datatype: 813510360\n",
            "Memory usage after changing the datatype: 101688907\n"
          ]
        }
      ]
    },
    {
      "cell_type": "code",
      "source": [
        "train.info(memory_usage='deep')"
      ],
      "metadata": {
        "colab": {
          "base_uri": "https://localhost:8080/"
        },
        "id": "Hvz9NnLi7XGq",
        "outputId": "2bf27f40-62bc-4647-c3b2-be84428b3b59"
      },
      "execution_count": 31,
      "outputs": [
        {
          "output_type": "stream",
          "name": "stdout",
          "text": [
            "<class 'pandas.core.frame.DataFrame'>\n",
            "RangeIndex: 101688779 entries, 0 to 101688778\n",
            "Data columns (total 7 columns):\n",
            " #   Column       Dtype   \n",
            "---  ------       -----   \n",
            " 0   locationId   category\n",
            " 1   item_id      category\n",
            " 2   unit_sales   float32 \n",
            " 3   onpromotion  int8    \n",
            " 4   Year         int16   \n",
            " 5   Month        int8    \n",
            " 6   Day          int8    \n",
            "dtypes: category(2), float32(1), int16(1), int8(3)\n",
            "memory usage: 1.1 GB\n"
          ]
        }
      ]
    },
    {
      "cell_type": "code",
      "source": [
        "train.head()"
      ],
      "metadata": {
        "colab": {
          "base_uri": "https://localhost:8080/",
          "height": 206
        },
        "id": "j3hJye_0_aLq",
        "outputId": "28cc7606-b68c-4b72-a258-7ed0344c7eea"
      },
      "execution_count": 32,
      "outputs": [
        {
          "output_type": "execute_result",
          "data": {
            "text/plain": [
              "    locationId      item_id  unit_sales  onpromotion  Year  Month  Day\n",
              "0  location_25  item_103665         7.0            0  2015      1    1\n",
              "1  location_25  item_105574         1.0            0  2015      1    1\n",
              "2  location_25  item_105575         2.0            0  2015      1    1\n",
              "3  location_25  item_108079         1.0            0  2015      1    1\n",
              "4  location_25  item_108701         1.0            0  2015      1    1"
            ],
            "text/html": [
              "\n",
              "  <div id=\"df-772783ad-66e3-4401-94e6-e27a74975fc9\">\n",
              "    <div class=\"colab-df-container\">\n",
              "      <div>\n",
              "<style scoped>\n",
              "    .dataframe tbody tr th:only-of-type {\n",
              "        vertical-align: middle;\n",
              "    }\n",
              "\n",
              "    .dataframe tbody tr th {\n",
              "        vertical-align: top;\n",
              "    }\n",
              "\n",
              "    .dataframe thead th {\n",
              "        text-align: right;\n",
              "    }\n",
              "</style>\n",
              "<table border=\"1\" class=\"dataframe\">\n",
              "  <thead>\n",
              "    <tr style=\"text-align: right;\">\n",
              "      <th></th>\n",
              "      <th>locationId</th>\n",
              "      <th>item_id</th>\n",
              "      <th>unit_sales</th>\n",
              "      <th>onpromotion</th>\n",
              "      <th>Year</th>\n",
              "      <th>Month</th>\n",
              "      <th>Day</th>\n",
              "    </tr>\n",
              "  </thead>\n",
              "  <tbody>\n",
              "    <tr>\n",
              "      <th>0</th>\n",
              "      <td>location_25</td>\n",
              "      <td>item_103665</td>\n",
              "      <td>7.0</td>\n",
              "      <td>0</td>\n",
              "      <td>2015</td>\n",
              "      <td>1</td>\n",
              "      <td>1</td>\n",
              "    </tr>\n",
              "    <tr>\n",
              "      <th>1</th>\n",
              "      <td>location_25</td>\n",
              "      <td>item_105574</td>\n",
              "      <td>1.0</td>\n",
              "      <td>0</td>\n",
              "      <td>2015</td>\n",
              "      <td>1</td>\n",
              "      <td>1</td>\n",
              "    </tr>\n",
              "    <tr>\n",
              "      <th>2</th>\n",
              "      <td>location_25</td>\n",
              "      <td>item_105575</td>\n",
              "      <td>2.0</td>\n",
              "      <td>0</td>\n",
              "      <td>2015</td>\n",
              "      <td>1</td>\n",
              "      <td>1</td>\n",
              "    </tr>\n",
              "    <tr>\n",
              "      <th>3</th>\n",
              "      <td>location_25</td>\n",
              "      <td>item_108079</td>\n",
              "      <td>1.0</td>\n",
              "      <td>0</td>\n",
              "      <td>2015</td>\n",
              "      <td>1</td>\n",
              "      <td>1</td>\n",
              "    </tr>\n",
              "    <tr>\n",
              "      <th>4</th>\n",
              "      <td>location_25</td>\n",
              "      <td>item_108701</td>\n",
              "      <td>1.0</td>\n",
              "      <td>0</td>\n",
              "      <td>2015</td>\n",
              "      <td>1</td>\n",
              "      <td>1</td>\n",
              "    </tr>\n",
              "  </tbody>\n",
              "</table>\n",
              "</div>\n",
              "      <button class=\"colab-df-convert\" onclick=\"convertToInteractive('df-772783ad-66e3-4401-94e6-e27a74975fc9')\"\n",
              "              title=\"Convert this dataframe to an interactive table.\"\n",
              "              style=\"display:none;\">\n",
              "        \n",
              "  <svg xmlns=\"http://www.w3.org/2000/svg\" height=\"24px\"viewBox=\"0 0 24 24\"\n",
              "       width=\"24px\">\n",
              "    <path d=\"M0 0h24v24H0V0z\" fill=\"none\"/>\n",
              "    <path d=\"M18.56 5.44l.94 2.06.94-2.06 2.06-.94-2.06-.94-.94-2.06-.94 2.06-2.06.94zm-11 1L8.5 8.5l.94-2.06 2.06-.94-2.06-.94L8.5 2.5l-.94 2.06-2.06.94zm10 10l.94 2.06.94-2.06 2.06-.94-2.06-.94-.94-2.06-.94 2.06-2.06.94z\"/><path d=\"M17.41 7.96l-1.37-1.37c-.4-.4-.92-.59-1.43-.59-.52 0-1.04.2-1.43.59L10.3 9.45l-7.72 7.72c-.78.78-.78 2.05 0 2.83L4 21.41c.39.39.9.59 1.41.59.51 0 1.02-.2 1.41-.59l7.78-7.78 2.81-2.81c.8-.78.8-2.07 0-2.86zM5.41 20L4 18.59l7.72-7.72 1.47 1.35L5.41 20z\"/>\n",
              "  </svg>\n",
              "      </button>\n",
              "      \n",
              "  <style>\n",
              "    .colab-df-container {\n",
              "      display:flex;\n",
              "      flex-wrap:wrap;\n",
              "      gap: 12px;\n",
              "    }\n",
              "\n",
              "    .colab-df-convert {\n",
              "      background-color: #E8F0FE;\n",
              "      border: none;\n",
              "      border-radius: 50%;\n",
              "      cursor: pointer;\n",
              "      display: none;\n",
              "      fill: #1967D2;\n",
              "      height: 32px;\n",
              "      padding: 0 0 0 0;\n",
              "      width: 32px;\n",
              "    }\n",
              "\n",
              "    .colab-df-convert:hover {\n",
              "      background-color: #E2EBFA;\n",
              "      box-shadow: 0px 1px 2px rgba(60, 64, 67, 0.3), 0px 1px 3px 1px rgba(60, 64, 67, 0.15);\n",
              "      fill: #174EA6;\n",
              "    }\n",
              "\n",
              "    [theme=dark] .colab-df-convert {\n",
              "      background-color: #3B4455;\n",
              "      fill: #D2E3FC;\n",
              "    }\n",
              "\n",
              "    [theme=dark] .colab-df-convert:hover {\n",
              "      background-color: #434B5C;\n",
              "      box-shadow: 0px 1px 3px 1px rgba(0, 0, 0, 0.15);\n",
              "      filter: drop-shadow(0px 1px 2px rgba(0, 0, 0, 0.3));\n",
              "      fill: #FFFFFF;\n",
              "    }\n",
              "  </style>\n",
              "\n",
              "      <script>\n",
              "        const buttonEl =\n",
              "          document.querySelector('#df-772783ad-66e3-4401-94e6-e27a74975fc9 button.colab-df-convert');\n",
              "        buttonEl.style.display =\n",
              "          google.colab.kernel.accessAllowed ? 'block' : 'none';\n",
              "\n",
              "        async function convertToInteractive(key) {\n",
              "          const element = document.querySelector('#df-772783ad-66e3-4401-94e6-e27a74975fc9');\n",
              "          const dataTable =\n",
              "            await google.colab.kernel.invokeFunction('convertToInteractive',\n",
              "                                                     [key], {});\n",
              "          if (!dataTable) return;\n",
              "\n",
              "          const docLinkHtml = 'Like what you see? Visit the ' +\n",
              "            '<a target=\"_blank\" href=https://colab.research.google.com/notebooks/data_table.ipynb>data table notebook</a>'\n",
              "            + ' to learn more about interactive tables.';\n",
              "          element.innerHTML = '';\n",
              "          dataTable['output_type'] = 'display_data';\n",
              "          await google.colab.output.renderOutput(dataTable, element);\n",
              "          const docLink = document.createElement('div');\n",
              "          docLink.innerHTML = docLinkHtml;\n",
              "          element.appendChild(docLink);\n",
              "        }\n",
              "      </script>\n",
              "    </div>\n",
              "  </div>\n",
              "  "
            ]
          },
          "metadata": {},
          "execution_count": 32
        }
      ]
    },
    {
      "cell_type": "code",
      "source": [
        "x=train.drop('unit_sales',axis=1)\n",
        "y=train['unit_sales']"
      ],
      "metadata": {
        "id": "WpadxDkf_ksG"
      },
      "execution_count": 33,
      "outputs": []
    },
    {
      "cell_type": "code",
      "source": [
        "x"
      ],
      "metadata": {
        "id": "z76f3vLRNwcr",
        "colab": {
          "base_uri": "https://localhost:8080/",
          "height": 424
        },
        "outputId": "5af1efc1-8951-4060-e319-af6fdc626fe4"
      },
      "execution_count": 34,
      "outputs": [
        {
          "output_type": "execute_result",
          "data": {
            "text/plain": [
              "            locationId       item_id  onpromotion  Year  Month  Day\n",
              "0          location_25   item_103665            0  2015      1    1\n",
              "1          location_25   item_105574            0  2015      1    1\n",
              "2          location_25   item_105575            0  2015      1    1\n",
              "3          location_25   item_108079            0  2015      1    1\n",
              "4          location_25   item_108701            0  2015      1    1\n",
              "...                ...           ...          ...   ...    ...  ...\n",
              "101688774  location_54  item_2048381            1  2018     12   31\n",
              "101688775  location_54  item_2048421            0  2018     12   31\n",
              "101688776  location_54  item_2048471            0  2018     12   31\n",
              "101688777  location_54  item_2048515            0  2018     12   31\n",
              "101688778  location_54  item_2048674            0  2018     12   31\n",
              "\n",
              "[101688779 rows x 6 columns]"
            ],
            "text/html": [
              "\n",
              "  <div id=\"df-215ddbf1-fbca-4d47-8458-92c4dcf96c59\">\n",
              "    <div class=\"colab-df-container\">\n",
              "      <div>\n",
              "<style scoped>\n",
              "    .dataframe tbody tr th:only-of-type {\n",
              "        vertical-align: middle;\n",
              "    }\n",
              "\n",
              "    .dataframe tbody tr th {\n",
              "        vertical-align: top;\n",
              "    }\n",
              "\n",
              "    .dataframe thead th {\n",
              "        text-align: right;\n",
              "    }\n",
              "</style>\n",
              "<table border=\"1\" class=\"dataframe\">\n",
              "  <thead>\n",
              "    <tr style=\"text-align: right;\">\n",
              "      <th></th>\n",
              "      <th>locationId</th>\n",
              "      <th>item_id</th>\n",
              "      <th>onpromotion</th>\n",
              "      <th>Year</th>\n",
              "      <th>Month</th>\n",
              "      <th>Day</th>\n",
              "    </tr>\n",
              "  </thead>\n",
              "  <tbody>\n",
              "    <tr>\n",
              "      <th>0</th>\n",
              "      <td>location_25</td>\n",
              "      <td>item_103665</td>\n",
              "      <td>0</td>\n",
              "      <td>2015</td>\n",
              "      <td>1</td>\n",
              "      <td>1</td>\n",
              "    </tr>\n",
              "    <tr>\n",
              "      <th>1</th>\n",
              "      <td>location_25</td>\n",
              "      <td>item_105574</td>\n",
              "      <td>0</td>\n",
              "      <td>2015</td>\n",
              "      <td>1</td>\n",
              "      <td>1</td>\n",
              "    </tr>\n",
              "    <tr>\n",
              "      <th>2</th>\n",
              "      <td>location_25</td>\n",
              "      <td>item_105575</td>\n",
              "      <td>0</td>\n",
              "      <td>2015</td>\n",
              "      <td>1</td>\n",
              "      <td>1</td>\n",
              "    </tr>\n",
              "    <tr>\n",
              "      <th>3</th>\n",
              "      <td>location_25</td>\n",
              "      <td>item_108079</td>\n",
              "      <td>0</td>\n",
              "      <td>2015</td>\n",
              "      <td>1</td>\n",
              "      <td>1</td>\n",
              "    </tr>\n",
              "    <tr>\n",
              "      <th>4</th>\n",
              "      <td>location_25</td>\n",
              "      <td>item_108701</td>\n",
              "      <td>0</td>\n",
              "      <td>2015</td>\n",
              "      <td>1</td>\n",
              "      <td>1</td>\n",
              "    </tr>\n",
              "    <tr>\n",
              "      <th>...</th>\n",
              "      <td>...</td>\n",
              "      <td>...</td>\n",
              "      <td>...</td>\n",
              "      <td>...</td>\n",
              "      <td>...</td>\n",
              "      <td>...</td>\n",
              "    </tr>\n",
              "    <tr>\n",
              "      <th>101688774</th>\n",
              "      <td>location_54</td>\n",
              "      <td>item_2048381</td>\n",
              "      <td>1</td>\n",
              "      <td>2018</td>\n",
              "      <td>12</td>\n",
              "      <td>31</td>\n",
              "    </tr>\n",
              "    <tr>\n",
              "      <th>101688775</th>\n",
              "      <td>location_54</td>\n",
              "      <td>item_2048421</td>\n",
              "      <td>0</td>\n",
              "      <td>2018</td>\n",
              "      <td>12</td>\n",
              "      <td>31</td>\n",
              "    </tr>\n",
              "    <tr>\n",
              "      <th>101688776</th>\n",
              "      <td>location_54</td>\n",
              "      <td>item_2048471</td>\n",
              "      <td>0</td>\n",
              "      <td>2018</td>\n",
              "      <td>12</td>\n",
              "      <td>31</td>\n",
              "    </tr>\n",
              "    <tr>\n",
              "      <th>101688777</th>\n",
              "      <td>location_54</td>\n",
              "      <td>item_2048515</td>\n",
              "      <td>0</td>\n",
              "      <td>2018</td>\n",
              "      <td>12</td>\n",
              "      <td>31</td>\n",
              "    </tr>\n",
              "    <tr>\n",
              "      <th>101688778</th>\n",
              "      <td>location_54</td>\n",
              "      <td>item_2048674</td>\n",
              "      <td>0</td>\n",
              "      <td>2018</td>\n",
              "      <td>12</td>\n",
              "      <td>31</td>\n",
              "    </tr>\n",
              "  </tbody>\n",
              "</table>\n",
              "<p>101688779 rows × 6 columns</p>\n",
              "</div>\n",
              "      <button class=\"colab-df-convert\" onclick=\"convertToInteractive('df-215ddbf1-fbca-4d47-8458-92c4dcf96c59')\"\n",
              "              title=\"Convert this dataframe to an interactive table.\"\n",
              "              style=\"display:none;\">\n",
              "        \n",
              "  <svg xmlns=\"http://www.w3.org/2000/svg\" height=\"24px\"viewBox=\"0 0 24 24\"\n",
              "       width=\"24px\">\n",
              "    <path d=\"M0 0h24v24H0V0z\" fill=\"none\"/>\n",
              "    <path d=\"M18.56 5.44l.94 2.06.94-2.06 2.06-.94-2.06-.94-.94-2.06-.94 2.06-2.06.94zm-11 1L8.5 8.5l.94-2.06 2.06-.94-2.06-.94L8.5 2.5l-.94 2.06-2.06.94zm10 10l.94 2.06.94-2.06 2.06-.94-2.06-.94-.94-2.06-.94 2.06-2.06.94z\"/><path d=\"M17.41 7.96l-1.37-1.37c-.4-.4-.92-.59-1.43-.59-.52 0-1.04.2-1.43.59L10.3 9.45l-7.72 7.72c-.78.78-.78 2.05 0 2.83L4 21.41c.39.39.9.59 1.41.59.51 0 1.02-.2 1.41-.59l7.78-7.78 2.81-2.81c.8-.78.8-2.07 0-2.86zM5.41 20L4 18.59l7.72-7.72 1.47 1.35L5.41 20z\"/>\n",
              "  </svg>\n",
              "      </button>\n",
              "      \n",
              "  <style>\n",
              "    .colab-df-container {\n",
              "      display:flex;\n",
              "      flex-wrap:wrap;\n",
              "      gap: 12px;\n",
              "    }\n",
              "\n",
              "    .colab-df-convert {\n",
              "      background-color: #E8F0FE;\n",
              "      border: none;\n",
              "      border-radius: 50%;\n",
              "      cursor: pointer;\n",
              "      display: none;\n",
              "      fill: #1967D2;\n",
              "      height: 32px;\n",
              "      padding: 0 0 0 0;\n",
              "      width: 32px;\n",
              "    }\n",
              "\n",
              "    .colab-df-convert:hover {\n",
              "      background-color: #E2EBFA;\n",
              "      box-shadow: 0px 1px 2px rgba(60, 64, 67, 0.3), 0px 1px 3px 1px rgba(60, 64, 67, 0.15);\n",
              "      fill: #174EA6;\n",
              "    }\n",
              "\n",
              "    [theme=dark] .colab-df-convert {\n",
              "      background-color: #3B4455;\n",
              "      fill: #D2E3FC;\n",
              "    }\n",
              "\n",
              "    [theme=dark] .colab-df-convert:hover {\n",
              "      background-color: #434B5C;\n",
              "      box-shadow: 0px 1px 3px 1px rgba(0, 0, 0, 0.15);\n",
              "      filter: drop-shadow(0px 1px 2px rgba(0, 0, 0, 0.3));\n",
              "      fill: #FFFFFF;\n",
              "    }\n",
              "  </style>\n",
              "\n",
              "      <script>\n",
              "        const buttonEl =\n",
              "          document.querySelector('#df-215ddbf1-fbca-4d47-8458-92c4dcf96c59 button.colab-df-convert');\n",
              "        buttonEl.style.display =\n",
              "          google.colab.kernel.accessAllowed ? 'block' : 'none';\n",
              "\n",
              "        async function convertToInteractive(key) {\n",
              "          const element = document.querySelector('#df-215ddbf1-fbca-4d47-8458-92c4dcf96c59');\n",
              "          const dataTable =\n",
              "            await google.colab.kernel.invokeFunction('convertToInteractive',\n",
              "                                                     [key], {});\n",
              "          if (!dataTable) return;\n",
              "\n",
              "          const docLinkHtml = 'Like what you see? Visit the ' +\n",
              "            '<a target=\"_blank\" href=https://colab.research.google.com/notebooks/data_table.ipynb>data table notebook</a>'\n",
              "            + ' to learn more about interactive tables.';\n",
              "          element.innerHTML = '';\n",
              "          dataTable['output_type'] = 'display_data';\n",
              "          await google.colab.output.renderOutput(dataTable, element);\n",
              "          const docLink = document.createElement('div');\n",
              "          docLink.innerHTML = docLinkHtml;\n",
              "          element.appendChild(docLink);\n",
              "        }\n",
              "      </script>\n",
              "    </div>\n",
              "  </div>\n",
              "  "
            ]
          },
          "metadata": {},
          "execution_count": 34
        }
      ]
    },
    {
      "cell_type": "code",
      "source": [
        "y"
      ],
      "metadata": {
        "colab": {
          "base_uri": "https://localhost:8080/"
        },
        "id": "FiQfj7fuHdh5",
        "outputId": "171e1327-c17d-4923-993e-08788705640a"
      },
      "execution_count": 35,
      "outputs": [
        {
          "output_type": "execute_result",
          "data": {
            "text/plain": [
              "0             7.0\n",
              "1             1.0\n",
              "2             2.0\n",
              "3             1.0\n",
              "4             1.0\n",
              "             ... \n",
              "101688774     6.0\n",
              "101688775     4.0\n",
              "101688776    10.0\n",
              "101688777     3.0\n",
              "101688778     1.0\n",
              "Name: unit_sales, Length: 101688779, dtype: float32"
            ]
          },
          "metadata": {},
          "execution_count": 35
        }
      ]
    },
    {
      "cell_type": "code",
      "source": [
        "print(x.shape)\n",
        "print(y.shape)"
      ],
      "metadata": {
        "colab": {
          "base_uri": "https://localhost:8080/"
        },
        "id": "fFYg5Zk1JMy6",
        "outputId": "b27aafe3-9cbf-44fb-f91b-6f1401526fac"
      },
      "execution_count": 36,
      "outputs": [
        {
          "output_type": "stream",
          "name": "stdout",
          "text": [
            "(101688779, 6)\n",
            "(101688779,)\n"
          ]
        }
      ]
    },
    {
      "cell_type": "code",
      "source": [
        "from sklearn.model_selection import train_test_split\n",
        "x_train,x_validate,y_train,y_validate=train_test_split(x,y,test_size=0.3,random_state=42)"
      ],
      "metadata": {
        "id": "eAfhkbk5HfVb"
      },
      "execution_count": 37,
      "outputs": []
    },
    {
      "cell_type": "code",
      "source": [
        "print(x_train.shape)\n",
        "print(x_validate.shape)\n",
        "print(y_train.shape)\n",
        "print(y_validate.shape)"
      ],
      "metadata": {
        "id": "BxDwtnR5Idmj",
        "colab": {
          "base_uri": "https://localhost:8080/"
        },
        "outputId": "a119ba73-6cb0-478b-93d4-b3c4ae2ecc18"
      },
      "execution_count": 38,
      "outputs": [
        {
          "output_type": "stream",
          "name": "stdout",
          "text": [
            "(71182145, 6)\n",
            "(30506634, 6)\n",
            "(71182145,)\n",
            "(30506634,)\n"
          ]
        }
      ]
    },
    {
      "cell_type": "code",
      "source": [
        "test.head(10)"
      ],
      "metadata": {
        "colab": {
          "base_uri": "https://localhost:8080/",
          "height": 363
        },
        "id": "BD92zZRqf6VP",
        "outputId": "53d78978-52d1-4db8-9607-130ac3ecd31e"
      },
      "execution_count": 39,
      "outputs": [
        {
          "output_type": "execute_result",
          "data": {
            "text/plain": [
              "   id        date   locationId      item_id  onpromotion\n",
              "0   0  2019-01-01  location_25   item_99197        False\n",
              "1   1  2019-01-01  location_25  item_103665        False\n",
              "2   2  2019-01-01  location_25  item_105574        False\n",
              "3   3  2019-01-01  location_25  item_105857        False\n",
              "4   4  2019-01-01  location_25  item_106716        False\n",
              "5   5  2019-01-01  location_25  item_108698        False\n",
              "6   6  2019-01-01  location_25  item_108786        False\n",
              "7   7  2019-01-01  location_25  item_108797        False\n",
              "8   8  2019-01-01  location_25  item_108862        False\n",
              "9   9  2019-01-01  location_25  item_108952        False"
            ],
            "text/html": [
              "\n",
              "  <div id=\"df-31e521ca-32ee-43df-bd25-3e4b4e341a54\">\n",
              "    <div class=\"colab-df-container\">\n",
              "      <div>\n",
              "<style scoped>\n",
              "    .dataframe tbody tr th:only-of-type {\n",
              "        vertical-align: middle;\n",
              "    }\n",
              "\n",
              "    .dataframe tbody tr th {\n",
              "        vertical-align: top;\n",
              "    }\n",
              "\n",
              "    .dataframe thead th {\n",
              "        text-align: right;\n",
              "    }\n",
              "</style>\n",
              "<table border=\"1\" class=\"dataframe\">\n",
              "  <thead>\n",
              "    <tr style=\"text-align: right;\">\n",
              "      <th></th>\n",
              "      <th>id</th>\n",
              "      <th>date</th>\n",
              "      <th>locationId</th>\n",
              "      <th>item_id</th>\n",
              "      <th>onpromotion</th>\n",
              "    </tr>\n",
              "  </thead>\n",
              "  <tbody>\n",
              "    <tr>\n",
              "      <th>0</th>\n",
              "      <td>0</td>\n",
              "      <td>2019-01-01</td>\n",
              "      <td>location_25</td>\n",
              "      <td>item_99197</td>\n",
              "      <td>False</td>\n",
              "    </tr>\n",
              "    <tr>\n",
              "      <th>1</th>\n",
              "      <td>1</td>\n",
              "      <td>2019-01-01</td>\n",
              "      <td>location_25</td>\n",
              "      <td>item_103665</td>\n",
              "      <td>False</td>\n",
              "    </tr>\n",
              "    <tr>\n",
              "      <th>2</th>\n",
              "      <td>2</td>\n",
              "      <td>2019-01-01</td>\n",
              "      <td>location_25</td>\n",
              "      <td>item_105574</td>\n",
              "      <td>False</td>\n",
              "    </tr>\n",
              "    <tr>\n",
              "      <th>3</th>\n",
              "      <td>3</td>\n",
              "      <td>2019-01-01</td>\n",
              "      <td>location_25</td>\n",
              "      <td>item_105857</td>\n",
              "      <td>False</td>\n",
              "    </tr>\n",
              "    <tr>\n",
              "      <th>4</th>\n",
              "      <td>4</td>\n",
              "      <td>2019-01-01</td>\n",
              "      <td>location_25</td>\n",
              "      <td>item_106716</td>\n",
              "      <td>False</td>\n",
              "    </tr>\n",
              "    <tr>\n",
              "      <th>5</th>\n",
              "      <td>5</td>\n",
              "      <td>2019-01-01</td>\n",
              "      <td>location_25</td>\n",
              "      <td>item_108698</td>\n",
              "      <td>False</td>\n",
              "    </tr>\n",
              "    <tr>\n",
              "      <th>6</th>\n",
              "      <td>6</td>\n",
              "      <td>2019-01-01</td>\n",
              "      <td>location_25</td>\n",
              "      <td>item_108786</td>\n",
              "      <td>False</td>\n",
              "    </tr>\n",
              "    <tr>\n",
              "      <th>7</th>\n",
              "      <td>7</td>\n",
              "      <td>2019-01-01</td>\n",
              "      <td>location_25</td>\n",
              "      <td>item_108797</td>\n",
              "      <td>False</td>\n",
              "    </tr>\n",
              "    <tr>\n",
              "      <th>8</th>\n",
              "      <td>8</td>\n",
              "      <td>2019-01-01</td>\n",
              "      <td>location_25</td>\n",
              "      <td>item_108862</td>\n",
              "      <td>False</td>\n",
              "    </tr>\n",
              "    <tr>\n",
              "      <th>9</th>\n",
              "      <td>9</td>\n",
              "      <td>2019-01-01</td>\n",
              "      <td>location_25</td>\n",
              "      <td>item_108952</td>\n",
              "      <td>False</td>\n",
              "    </tr>\n",
              "  </tbody>\n",
              "</table>\n",
              "</div>\n",
              "      <button class=\"colab-df-convert\" onclick=\"convertToInteractive('df-31e521ca-32ee-43df-bd25-3e4b4e341a54')\"\n",
              "              title=\"Convert this dataframe to an interactive table.\"\n",
              "              style=\"display:none;\">\n",
              "        \n",
              "  <svg xmlns=\"http://www.w3.org/2000/svg\" height=\"24px\"viewBox=\"0 0 24 24\"\n",
              "       width=\"24px\">\n",
              "    <path d=\"M0 0h24v24H0V0z\" fill=\"none\"/>\n",
              "    <path d=\"M18.56 5.44l.94 2.06.94-2.06 2.06-.94-2.06-.94-.94-2.06-.94 2.06-2.06.94zm-11 1L8.5 8.5l.94-2.06 2.06-.94-2.06-.94L8.5 2.5l-.94 2.06-2.06.94zm10 10l.94 2.06.94-2.06 2.06-.94-2.06-.94-.94-2.06-.94 2.06-2.06.94z\"/><path d=\"M17.41 7.96l-1.37-1.37c-.4-.4-.92-.59-1.43-.59-.52 0-1.04.2-1.43.59L10.3 9.45l-7.72 7.72c-.78.78-.78 2.05 0 2.83L4 21.41c.39.39.9.59 1.41.59.51 0 1.02-.2 1.41-.59l7.78-7.78 2.81-2.81c.8-.78.8-2.07 0-2.86zM5.41 20L4 18.59l7.72-7.72 1.47 1.35L5.41 20z\"/>\n",
              "  </svg>\n",
              "      </button>\n",
              "      \n",
              "  <style>\n",
              "    .colab-df-container {\n",
              "      display:flex;\n",
              "      flex-wrap:wrap;\n",
              "      gap: 12px;\n",
              "    }\n",
              "\n",
              "    .colab-df-convert {\n",
              "      background-color: #E8F0FE;\n",
              "      border: none;\n",
              "      border-radius: 50%;\n",
              "      cursor: pointer;\n",
              "      display: none;\n",
              "      fill: #1967D2;\n",
              "      height: 32px;\n",
              "      padding: 0 0 0 0;\n",
              "      width: 32px;\n",
              "    }\n",
              "\n",
              "    .colab-df-convert:hover {\n",
              "      background-color: #E2EBFA;\n",
              "      box-shadow: 0px 1px 2px rgba(60, 64, 67, 0.3), 0px 1px 3px 1px rgba(60, 64, 67, 0.15);\n",
              "      fill: #174EA6;\n",
              "    }\n",
              "\n",
              "    [theme=dark] .colab-df-convert {\n",
              "      background-color: #3B4455;\n",
              "      fill: #D2E3FC;\n",
              "    }\n",
              "\n",
              "    [theme=dark] .colab-df-convert:hover {\n",
              "      background-color: #434B5C;\n",
              "      box-shadow: 0px 1px 3px 1px rgba(0, 0, 0, 0.15);\n",
              "      filter: drop-shadow(0px 1px 2px rgba(0, 0, 0, 0.3));\n",
              "      fill: #FFFFFF;\n",
              "    }\n",
              "  </style>\n",
              "\n",
              "      <script>\n",
              "        const buttonEl =\n",
              "          document.querySelector('#df-31e521ca-32ee-43df-bd25-3e4b4e341a54 button.colab-df-convert');\n",
              "        buttonEl.style.display =\n",
              "          google.colab.kernel.accessAllowed ? 'block' : 'none';\n",
              "\n",
              "        async function convertToInteractive(key) {\n",
              "          const element = document.querySelector('#df-31e521ca-32ee-43df-bd25-3e4b4e341a54');\n",
              "          const dataTable =\n",
              "            await google.colab.kernel.invokeFunction('convertToInteractive',\n",
              "                                                     [key], {});\n",
              "          if (!dataTable) return;\n",
              "\n",
              "          const docLinkHtml = 'Like what you see? Visit the ' +\n",
              "            '<a target=\"_blank\" href=https://colab.research.google.com/notebooks/data_table.ipynb>data table notebook</a>'\n",
              "            + ' to learn more about interactive tables.';\n",
              "          element.innerHTML = '';\n",
              "          dataTable['output_type'] = 'display_data';\n",
              "          await google.colab.output.renderOutput(dataTable, element);\n",
              "          const docLink = document.createElement('div');\n",
              "          docLink.innerHTML = docLinkHtml;\n",
              "          element.appendChild(docLink);\n",
              "        }\n",
              "      </script>\n",
              "    </div>\n",
              "  </div>\n",
              "  "
            ]
          },
          "metadata": {},
          "execution_count": 39
        }
      ]
    },
    {
      "cell_type": "code",
      "source": [
        "test.info(memory_usage='deep')"
      ],
      "metadata": {
        "colab": {
          "base_uri": "https://localhost:8080/"
        },
        "id": "28mZHM9AlEdb",
        "outputId": "1f38ff8e-1048-4779-be47-f0c29c1270f9"
      },
      "execution_count": 40,
      "outputs": [
        {
          "output_type": "stream",
          "name": "stdout",
          "text": [
            "<class 'pandas.core.frame.DataFrame'>\n",
            "RangeIndex: 23517680 entries, 0 to 23517679\n",
            "Data columns (total 5 columns):\n",
            " #   Column       Dtype \n",
            "---  ------       ----- \n",
            " 0   id           int64 \n",
            " 1   date         object\n",
            " 2   locationId   object\n",
            " 3   item_id      object\n",
            " 4   onpromotion  bool  \n",
            "dtypes: bool(1), int64(1), object(3)\n",
            "memory usage: 4.7 GB\n"
          ]
        }
      ]
    },
    {
      "cell_type": "code",
      "source": [
        "test.isnull().sum()"
      ],
      "metadata": {
        "colab": {
          "base_uri": "https://localhost:8080/"
        },
        "id": "RsinQFUSlKiR",
        "outputId": "5b195edc-75a2-4b63-cb1a-4f86377898af"
      },
      "execution_count": 41,
      "outputs": [
        {
          "output_type": "execute_result",
          "data": {
            "text/plain": [
              "id             0\n",
              "date           0\n",
              "locationId     0\n",
              "item_id        0\n",
              "onpromotion    0\n",
              "dtype: int64"
            ]
          },
          "metadata": {},
          "execution_count": 41
        }
      ]
    },
    {
      "cell_type": "code",
      "source": [
        "print(\"Memory usage before changing the datatype:\", test.date.memory_usage())\n",
        "test['date']=pd.to_datetime(test['date'])\n",
        "#train['unit_sales']=train['unit_sales'].astype(np.float32)\n",
        "test['Year'] = pd.DatetimeIndex(test['date']).year.astype(np.int16)\n",
        "test['Month'] = pd.DatetimeIndex(test['date']).month.astype(np.int8)\n",
        "test['Day'] =pd.DatetimeIndex(test['date']).day.astype(np.int8)\n",
        "print(\"Memory usage after changing the datatype:\", test.Year.memory_usage())\n",
        "print(\"Memory usage after changing the datatype:\", test.Month.memory_usage())\n",
        "print(\"Memory usage after changing the datatype:\", test.Day.memory_usage())\n",
        "\n"
      ],
      "metadata": {
        "colab": {
          "base_uri": "https://localhost:8080/"
        },
        "id": "bRHT4294nKwV",
        "outputId": "7c651955-8dd3-4d54-b3f4-1f1a3511b3bd"
      },
      "execution_count": 44,
      "outputs": [
        {
          "output_type": "stream",
          "name": "stdout",
          "text": [
            "Memory usage before changing the datatype: 188141568\n",
            "Memory usage after changing the datatype: 188141568\n",
            "Memory usage after changing the datatype: 188141568\n",
            "Memory usage after changing the datatype: 188141568\n"
          ]
        }
      ]
    },
    {
      "cell_type": "code",
      "source": [
        "print(\"Memory usage before changing the datatype:\", test.onpromotion.memory_usage())\n",
        "\n",
        "test['onpromotion'] = test['onpromotion'].astype(np.int8)\n",
        "\n",
        "print(\"Memory usage after changing the datatype:\", test.onpromotion.memory_usage())\n",
        "\n",
        "print(\"Memory usage before changing the datatype:\", test.Year.memory_usage())\n",
        "\n",
        "test['Year'] = test['Year'].astype(np.int16)\n",
        "\n",
        "print(\"Memory usage after changing the datatype:\", test.Year.memory_usage())\n",
        "\n",
        "print(\"Memory usage before changing the datatype:\", test.Month.memory_usage())\n",
        "\n",
        "test['Month'] = test['Month'].astype(np.int8)\n",
        "\n",
        "print(\"Memory usage after changing the datatype:\", test.Month.memory_usage())\n",
        "\n",
        "print(\"Memory usage before changing the datatype:\", test.Day.memory_usage())\n",
        "\n",
        "test['Day'] = test['Day'].astype(np.int8)\n",
        "\n",
        "print(\"Memory usage after changing the datatype:\", test.Day.memory_usage())\n",
        "\n",
        "\n",
        "print(\"Memory usage before changing the datatype:\", test.locationId.memory_usage())\n",
        "\n",
        "test['locationId'] = test['locationId'].astype('category')\n",
        "\n",
        "print(\"Memory usage after changing the datatype:\", test.locationId.memory_usage())\n",
        "\n",
        "print(\"Memory usage before changing the datatype:\", test.item_id.memory_usage())\n",
        "\n",
        "test['item_id'] = test['item_id'].astype('category')\n",
        "\n",
        "print(\"Memory usage after changing the datatype:\", test.item_id.memory_usage())\n",
        " \n",
        " \n",
        " \n",
        " \n",
        " \n",
        " "
      ],
      "metadata": {
        "colab": {
          "base_uri": "https://localhost:8080/"
        },
        "id": "SRX2xagjpM9v",
        "outputId": "71cc68a7-e6a1-42b9-adad-0e3d58ee8d25"
      },
      "execution_count": 45,
      "outputs": [
        {
          "output_type": "stream",
          "name": "stdout",
          "text": [
            "Memory usage before changing the datatype: 23517808\n",
            "Memory usage after changing the datatype: 23517808\n",
            "Memory usage before changing the datatype: 188141568\n",
            "Memory usage after changing the datatype: 47035488\n",
            "Memory usage before changing the datatype: 188141568\n",
            "Memory usage after changing the datatype: 23517808\n",
            "Memory usage before changing the datatype: 188141568\n",
            "Memory usage after changing the datatype: 23517808\n",
            "Memory usage before changing the datatype: 188141568\n",
            "Memory usage after changing the datatype: 23520336\n",
            "Memory usage before changing the datatype: 188141568\n",
            "Memory usage after changing the datatype: 47199768\n"
          ]
        }
      ]
    },
    {
      "cell_type": "code",
      "source": [
        "test.info(memory_usage='deep')"
      ],
      "metadata": {
        "colab": {
          "base_uri": "https://localhost:8080/"
        },
        "id": "jcGGQ7g6pk57",
        "outputId": "bee50c6d-4bdb-44c2-c8ca-c039e25f5de6"
      },
      "execution_count": 46,
      "outputs": [
        {
          "output_type": "stream",
          "name": "stdout",
          "text": [
            "<class 'pandas.core.frame.DataFrame'>\n",
            "RangeIndex: 23517680 entries, 0 to 23517679\n",
            "Data columns (total 8 columns):\n",
            " #   Column       Dtype         \n",
            "---  ------       -----         \n",
            " 0   id           int64         \n",
            " 1   date         datetime64[ns]\n",
            " 2   locationId   category      \n",
            " 3   item_id      category      \n",
            " 4   onpromotion  int8          \n",
            " 5   Year         int16         \n",
            " 6   Month        int8          \n",
            " 7   Day          int8          \n",
            "dtypes: category(2), datetime64[ns](1), int16(1), int64(1), int8(3)\n",
            "memory usage: 538.7 MB\n"
          ]
        }
      ]
    },
    {
      "cell_type": "code",
      "source": [
        "del[test['date']]"
      ],
      "metadata": {
        "id": "G0YyKNeIrPLc"
      },
      "execution_count": 47,
      "outputs": []
    },
    {
      "cell_type": "code",
      "source": [
        "test.info(memory_usage='deep')"
      ],
      "metadata": {
        "colab": {
          "base_uri": "https://localhost:8080/"
        },
        "id": "NKc0QGEJrV7V",
        "outputId": "0b2eb1f3-dd8c-400c-8647-8ea323e0de10"
      },
      "execution_count": 48,
      "outputs": [
        {
          "output_type": "stream",
          "name": "stdout",
          "text": [
            "<class 'pandas.core.frame.DataFrame'>\n",
            "RangeIndex: 23517680 entries, 0 to 23517679\n",
            "Data columns (total 7 columns):\n",
            " #   Column       Dtype   \n",
            "---  ------       -----   \n",
            " 0   id           int64   \n",
            " 1   locationId   category\n",
            " 2   item_id      category\n",
            " 3   onpromotion  int8    \n",
            " 4   Year         int16   \n",
            " 5   Month        int8    \n",
            " 6   Day          int8    \n",
            "dtypes: category(2), int16(1), int64(1), int8(3)\n",
            "memory usage: 359.2 MB\n"
          ]
        }
      ]
    },
    {
      "cell_type": "code",
      "source": [
        "del[test['id']]"
      ],
      "metadata": {
        "id": "tl-RhvLprbiv"
      },
      "execution_count": 49,
      "outputs": []
    },
    {
      "cell_type": "code",
      "source": [
        "test.info(memory_usage='deep')"
      ],
      "metadata": {
        "colab": {
          "base_uri": "https://localhost:8080/"
        },
        "id": "E31JkBfJr8gu",
        "outputId": "397934fc-071f-4246-9e40-9704191427d9"
      },
      "execution_count": 50,
      "outputs": [
        {
          "output_type": "stream",
          "name": "stdout",
          "text": [
            "<class 'pandas.core.frame.DataFrame'>\n",
            "RangeIndex: 23517680 entries, 0 to 23517679\n",
            "Data columns (total 6 columns):\n",
            " #   Column       Dtype   \n",
            "---  ------       -----   \n",
            " 0   locationId   category\n",
            " 1   item_id      category\n",
            " 2   onpromotion  int8    \n",
            " 3   Year         int16   \n",
            " 4   Month        int8    \n",
            " 5   Day          int8    \n",
            "dtypes: category(2), int16(1), int8(3)\n",
            "memory usage: 179.8 MB\n"
          ]
        }
      ]
    },
    {
      "cell_type": "code",
      "source": [
        "test.head(10)"
      ],
      "metadata": {
        "colab": {
          "base_uri": "https://localhost:8080/",
          "height": 363
        },
        "id": "RtIRpMuCh0Hn",
        "outputId": "955fc6e3-8484-4277-c9f0-f7b3500d7abb"
      },
      "execution_count": 51,
      "outputs": [
        {
          "output_type": "execute_result",
          "data": {
            "text/plain": [
              "    locationId      item_id  onpromotion  Year  Month  Day\n",
              "0  location_25   item_99197            0  2019      1    1\n",
              "1  location_25  item_103665            0  2019      1    1\n",
              "2  location_25  item_105574            0  2019      1    1\n",
              "3  location_25  item_105857            0  2019      1    1\n",
              "4  location_25  item_106716            0  2019      1    1\n",
              "5  location_25  item_108698            0  2019      1    1\n",
              "6  location_25  item_108786            0  2019      1    1\n",
              "7  location_25  item_108797            0  2019      1    1\n",
              "8  location_25  item_108862            0  2019      1    1\n",
              "9  location_25  item_108952            0  2019      1    1"
            ],
            "text/html": [
              "\n",
              "  <div id=\"df-1f9c9dc5-d381-4e1e-bea5-7e40232995dc\">\n",
              "    <div class=\"colab-df-container\">\n",
              "      <div>\n",
              "<style scoped>\n",
              "    .dataframe tbody tr th:only-of-type {\n",
              "        vertical-align: middle;\n",
              "    }\n",
              "\n",
              "    .dataframe tbody tr th {\n",
              "        vertical-align: top;\n",
              "    }\n",
              "\n",
              "    .dataframe thead th {\n",
              "        text-align: right;\n",
              "    }\n",
              "</style>\n",
              "<table border=\"1\" class=\"dataframe\">\n",
              "  <thead>\n",
              "    <tr style=\"text-align: right;\">\n",
              "      <th></th>\n",
              "      <th>locationId</th>\n",
              "      <th>item_id</th>\n",
              "      <th>onpromotion</th>\n",
              "      <th>Year</th>\n",
              "      <th>Month</th>\n",
              "      <th>Day</th>\n",
              "    </tr>\n",
              "  </thead>\n",
              "  <tbody>\n",
              "    <tr>\n",
              "      <th>0</th>\n",
              "      <td>location_25</td>\n",
              "      <td>item_99197</td>\n",
              "      <td>0</td>\n",
              "      <td>2019</td>\n",
              "      <td>1</td>\n",
              "      <td>1</td>\n",
              "    </tr>\n",
              "    <tr>\n",
              "      <th>1</th>\n",
              "      <td>location_25</td>\n",
              "      <td>item_103665</td>\n",
              "      <td>0</td>\n",
              "      <td>2019</td>\n",
              "      <td>1</td>\n",
              "      <td>1</td>\n",
              "    </tr>\n",
              "    <tr>\n",
              "      <th>2</th>\n",
              "      <td>location_25</td>\n",
              "      <td>item_105574</td>\n",
              "      <td>0</td>\n",
              "      <td>2019</td>\n",
              "      <td>1</td>\n",
              "      <td>1</td>\n",
              "    </tr>\n",
              "    <tr>\n",
              "      <th>3</th>\n",
              "      <td>location_25</td>\n",
              "      <td>item_105857</td>\n",
              "      <td>0</td>\n",
              "      <td>2019</td>\n",
              "      <td>1</td>\n",
              "      <td>1</td>\n",
              "    </tr>\n",
              "    <tr>\n",
              "      <th>4</th>\n",
              "      <td>location_25</td>\n",
              "      <td>item_106716</td>\n",
              "      <td>0</td>\n",
              "      <td>2019</td>\n",
              "      <td>1</td>\n",
              "      <td>1</td>\n",
              "    </tr>\n",
              "    <tr>\n",
              "      <th>5</th>\n",
              "      <td>location_25</td>\n",
              "      <td>item_108698</td>\n",
              "      <td>0</td>\n",
              "      <td>2019</td>\n",
              "      <td>1</td>\n",
              "      <td>1</td>\n",
              "    </tr>\n",
              "    <tr>\n",
              "      <th>6</th>\n",
              "      <td>location_25</td>\n",
              "      <td>item_108786</td>\n",
              "      <td>0</td>\n",
              "      <td>2019</td>\n",
              "      <td>1</td>\n",
              "      <td>1</td>\n",
              "    </tr>\n",
              "    <tr>\n",
              "      <th>7</th>\n",
              "      <td>location_25</td>\n",
              "      <td>item_108797</td>\n",
              "      <td>0</td>\n",
              "      <td>2019</td>\n",
              "      <td>1</td>\n",
              "      <td>1</td>\n",
              "    </tr>\n",
              "    <tr>\n",
              "      <th>8</th>\n",
              "      <td>location_25</td>\n",
              "      <td>item_108862</td>\n",
              "      <td>0</td>\n",
              "      <td>2019</td>\n",
              "      <td>1</td>\n",
              "      <td>1</td>\n",
              "    </tr>\n",
              "    <tr>\n",
              "      <th>9</th>\n",
              "      <td>location_25</td>\n",
              "      <td>item_108952</td>\n",
              "      <td>0</td>\n",
              "      <td>2019</td>\n",
              "      <td>1</td>\n",
              "      <td>1</td>\n",
              "    </tr>\n",
              "  </tbody>\n",
              "</table>\n",
              "</div>\n",
              "      <button class=\"colab-df-convert\" onclick=\"convertToInteractive('df-1f9c9dc5-d381-4e1e-bea5-7e40232995dc')\"\n",
              "              title=\"Convert this dataframe to an interactive table.\"\n",
              "              style=\"display:none;\">\n",
              "        \n",
              "  <svg xmlns=\"http://www.w3.org/2000/svg\" height=\"24px\"viewBox=\"0 0 24 24\"\n",
              "       width=\"24px\">\n",
              "    <path d=\"M0 0h24v24H0V0z\" fill=\"none\"/>\n",
              "    <path d=\"M18.56 5.44l.94 2.06.94-2.06 2.06-.94-2.06-.94-.94-2.06-.94 2.06-2.06.94zm-11 1L8.5 8.5l.94-2.06 2.06-.94-2.06-.94L8.5 2.5l-.94 2.06-2.06.94zm10 10l.94 2.06.94-2.06 2.06-.94-2.06-.94-.94-2.06-.94 2.06-2.06.94z\"/><path d=\"M17.41 7.96l-1.37-1.37c-.4-.4-.92-.59-1.43-.59-.52 0-1.04.2-1.43.59L10.3 9.45l-7.72 7.72c-.78.78-.78 2.05 0 2.83L4 21.41c.39.39.9.59 1.41.59.51 0 1.02-.2 1.41-.59l7.78-7.78 2.81-2.81c.8-.78.8-2.07 0-2.86zM5.41 20L4 18.59l7.72-7.72 1.47 1.35L5.41 20z\"/>\n",
              "  </svg>\n",
              "      </button>\n",
              "      \n",
              "  <style>\n",
              "    .colab-df-container {\n",
              "      display:flex;\n",
              "      flex-wrap:wrap;\n",
              "      gap: 12px;\n",
              "    }\n",
              "\n",
              "    .colab-df-convert {\n",
              "      background-color: #E8F0FE;\n",
              "      border: none;\n",
              "      border-radius: 50%;\n",
              "      cursor: pointer;\n",
              "      display: none;\n",
              "      fill: #1967D2;\n",
              "      height: 32px;\n",
              "      padding: 0 0 0 0;\n",
              "      width: 32px;\n",
              "    }\n",
              "\n",
              "    .colab-df-convert:hover {\n",
              "      background-color: #E2EBFA;\n",
              "      box-shadow: 0px 1px 2px rgba(60, 64, 67, 0.3), 0px 1px 3px 1px rgba(60, 64, 67, 0.15);\n",
              "      fill: #174EA6;\n",
              "    }\n",
              "\n",
              "    [theme=dark] .colab-df-convert {\n",
              "      background-color: #3B4455;\n",
              "      fill: #D2E3FC;\n",
              "    }\n",
              "\n",
              "    [theme=dark] .colab-df-convert:hover {\n",
              "      background-color: #434B5C;\n",
              "      box-shadow: 0px 1px 3px 1px rgba(0, 0, 0, 0.15);\n",
              "      filter: drop-shadow(0px 1px 2px rgba(0, 0, 0, 0.3));\n",
              "      fill: #FFFFFF;\n",
              "    }\n",
              "  </style>\n",
              "\n",
              "      <script>\n",
              "        const buttonEl =\n",
              "          document.querySelector('#df-1f9c9dc5-d381-4e1e-bea5-7e40232995dc button.colab-df-convert');\n",
              "        buttonEl.style.display =\n",
              "          google.colab.kernel.accessAllowed ? 'block' : 'none';\n",
              "\n",
              "        async function convertToInteractive(key) {\n",
              "          const element = document.querySelector('#df-1f9c9dc5-d381-4e1e-bea5-7e40232995dc');\n",
              "          const dataTable =\n",
              "            await google.colab.kernel.invokeFunction('convertToInteractive',\n",
              "                                                     [key], {});\n",
              "          if (!dataTable) return;\n",
              "\n",
              "          const docLinkHtml = 'Like what you see? Visit the ' +\n",
              "            '<a target=\"_blank\" href=https://colab.research.google.com/notebooks/data_table.ipynb>data table notebook</a>'\n",
              "            + ' to learn more about interactive tables.';\n",
              "          element.innerHTML = '';\n",
              "          dataTable['output_type'] = 'display_data';\n",
              "          await google.colab.output.renderOutput(dataTable, element);\n",
              "          const docLink = document.createElement('div');\n",
              "          docLink.innerHTML = docLinkHtml;\n",
              "          element.appendChild(docLink);\n",
              "        }\n",
              "      </script>\n",
              "    </div>\n",
              "  </div>\n",
              "  "
            ]
          },
          "metadata": {},
          "execution_count": 51
        }
      ]
    },
    {
      "cell_type": "code",
      "source": [
        "#Fitting the MLR model to the training set:  \n",
        "from sklearn.linear_model import LinearRegression  \n",
        "#regressor= LinearRegression()  \n",
        "#regressor.fit(x_train, y_train)  \n"
      ],
      "metadata": {
        "id": "2X0K3eleXqci"
      },
      "execution_count": 52,
      "outputs": []
    },
    {
      "cell_type": "code",
      "source": [
        "regressor=LinearRegression()"
      ],
      "metadata": {
        "id": "46W6Ic2hN3qI"
      },
      "execution_count": 53,
      "outputs": []
    },
    {
      "cell_type": "code",
      "source": [
        "regressor.fit(x_train,y_train)/(1024.0**3)"
      ],
      "metadata": {
        "id": "b2zuNbFQN7XW"
      },
      "execution_count": null,
      "outputs": []
    },
    {
      "cell_type": "code",
      "source": [],
      "metadata": {
        "id": "IW4jtPb0lSzZ"
      },
      "execution_count": null,
      "outputs": []
    }
  ]
}